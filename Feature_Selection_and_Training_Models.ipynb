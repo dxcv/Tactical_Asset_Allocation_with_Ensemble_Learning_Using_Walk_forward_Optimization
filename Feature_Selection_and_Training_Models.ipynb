{
 "cells": [
  {
   "cell_type": "code",
   "execution_count": 1,
   "metadata": {},
   "outputs": [],
   "source": [
    "import numpy as np\n",
    "import pandas as pd\n",
    "import sklearn as sk\n",
    "import matplotlib.pyplot as plt\n",
    "import os.path\n",
    "#import one_hot_encoder\n",
    "#import utils\n",
    "import random\n",
    "from collections import Counter\n",
    "from sklearn.metrics import mutual_info_score\n",
    "import matplotlib.pyplot as plt\n",
    "from sklearn.metrics import average_precision_score\n",
    "from sklearn.metrics import roc_auc_score\n",
    "from sklearn.metrics import confusion_matrix"
   ]
  },
  {
   "cell_type": "code",
   "execution_count": 2,
   "metadata": {},
   "outputs": [],
   "source": [
    "merge_1month = pd.read_csv('merge_1month.csv')"
   ]
  },
  {
   "cell_type": "code",
   "execution_count": 3,
   "metadata": {},
   "outputs": [
    {
     "data": {
      "text/plain": [
       "383"
      ]
     },
     "execution_count": 3,
     "metadata": {},
     "output_type": "execute_result"
    }
   ],
   "source": [
    "len(merge_1month)"
   ]
  },
  {
   "cell_type": "code",
   "execution_count": 4,
   "metadata": {
    "scrolled": true
   },
   "outputs": [
    {
     "data": {
      "text/plain": [
       "Date                                                0\n",
       "CESIGL Index                                      183\n",
       "CESIGL Index 1 month absolute delta               184\n",
       "CESIGL Index 2 month absolute delta               185\n",
       "CESIGL Index 3 month absolute delta               186\n",
       "CESIGL Index 12 month absolute delta              195\n",
       "CESIGL Index 2 mo avg                             184\n",
       "CESIGL Index 3 mo avg                             185\n",
       "CESIGL Index 6 mo avg                             188\n",
       "CESIGL Index 6 mo avg - 3 mo avg                  188\n",
       "JPEASIEM Index                                    147\n",
       "JPEASIEM Index 1 month absolute delta             148\n",
       "JPEASIEM Index 2 month absolute delta             149\n",
       "JPEASIEM Index 3 month absolute delta             150\n",
       "JPEASIEM Index 12 month absolute delta            159\n",
       "JPEASIEM Index 2 mo avg                           148\n",
       "JPEASIEM Index 3 mo avg                           149\n",
       "JPEASIEM Index 6 mo avg                           152\n",
       "JPEASIEM Index 6 mo avg - 3 mo avg                152\n",
       "CECICUSD INDEX                                    183\n",
       "CECICUSD INDEX 1 month absolute delta             184\n",
       "CECICUSD INDEX 2 month absolute delta             185\n",
       "CECICUSD INDEX 3 month absolute delta             186\n",
       "CECICUSD INDEX 12 month absolute delta            195\n",
       "CECICUSD INDEX 2 mo avg                           184\n",
       "CECICUSD INDEX 3 mo avg                           185\n",
       "CECICUSD INDEX 6 mo avg                           188\n",
       "CECICUSD INDEX 6 mo avg - 3 mo avg                188\n",
       "CECICBRI INDEX                                    183\n",
       "CECICBRI INDEX 1 month absolute delta             184\n",
       "                                                 ... \n",
       "US HY CCCs / US HY BBs 1 month absolute delta     138\n",
       "US HY CCCs / US HY BBs 1 month % change           138\n",
       "US HY CCCs / US HY BBs 2 month absolute delta     139\n",
       "US HY CCCs / US HY BBs 2 month % change           139\n",
       "US HY CCCs / US HY BBs 3 month absolute delta     140\n",
       "US HY CCCs / US HY BBs 3 month % change           140\n",
       "US HY CCCs / US HY BBs 12 month absolute delta    149\n",
       "US HY CCCs / US HY BBs 12 month % change          149\n",
       "US HY CCCs / US HY BBs 2 mo avg                   138\n",
       "US HY CCCs / US HY BBs 3 mo avg                   139\n",
       "US HY CCCs / US HY BBs 6 mo avg                   142\n",
       "US HY CCCs / US HY BBs 12 mo avg                  148\n",
       "US HY CCCs / US HY BBs 6 mo avg - 3 mo avg        142\n",
       "US HY CCCs / US HY BBs 3 year Z-score             173\n",
       "US HY CCCs / US HY BBs 5 year Z-score             197\n",
       "MSCI EM                                             3\n",
       "SPX 500 Price Return                                3\n",
       "Eurostoxx 600                                       3\n",
       "MSCI Japan                                          3\n",
       "MSCI World                                          3\n",
       "Russell 2000                                        3\n",
       "Crude Oil Total Return                              3\n",
       "CRB Metals                                        147\n",
       "Gold Price                                          3\n",
       "S&P GSCI Total Return Index                         3\n",
       "UST 7-10yr                                          3\n",
       "German 7-10yr                                       3\n",
       "US IG Corps                                         3\n",
       "US HY Corp                                          3\n",
       "US Mortgages                                        3\n",
       "Length: 887, dtype: int64"
      ]
     },
     "execution_count": 4,
     "metadata": {},
     "output_type": "execute_result"
    }
   ],
   "source": [
    "merge_1month.isna().sum()"
   ]
  },
  {
   "cell_type": "code",
   "execution_count": 5,
   "metadata": {
    "scrolled": true
   },
   "outputs": [],
   "source": [
    "nan_non_zero_count = []\n",
    "for i in range(len(merge_1month)):\n",
    "    nan_non_zero_count.append(np.count_nonzero((merge_1month.iloc[i:len(merge_1month)-1].isna().sum()/len(merge_1month)).values))"
   ]
  },
  {
   "cell_type": "code",
   "execution_count": 6,
   "metadata": {},
   "outputs": [],
   "source": [
    "#nan_non_zero_count"
   ]
  },
  {
   "cell_type": "code",
   "execution_count": 7,
   "metadata": {},
   "outputs": [
    {
     "data": {
      "image/png": "[encoded data removed]",
      "text/plain": [
       "<Figure size 432x288 with 1 Axes>"
      ]
     },
     "metadata": {
      "needs_background": "light"
     },
     "output_type": "display_data"
    }
   ],
   "source": [
    "x_plot = list(range(1,384))\n",
    "plt.plot(x_plot,nan_non_zero_count)\n",
    "plt.title('the number of nan-feature evolves')\n",
    "plt.ylabel('the number of num-nan-feature')\n",
    "plt.xlabel('index in the dataframe')\n",
    "plt.show()"
   ]
  },
  {
   "cell_type": "code",
   "execution_count": 8,
   "metadata": {},
   "outputs": [],
   "source": [
    "merge_1month_X = merge_1month[merge_1month.columns[:-15]]"
   ]
  },
  {
   "cell_type": "code",
   "execution_count": 9,
   "metadata": {},
   "outputs": [],
   "source": [
    "merge_1month_X = merge_1month_X.replace([np.inf, -np.inf], np.nan)"
   ]
  },
  {
   "cell_type": "code",
   "execution_count": 10,
   "metadata": {},
   "outputs": [],
   "source": [
    "merge_1month_Y = merge_1month[merge_1month.columns[-15:]]"
   ]
  },
  {
   "cell_type": "markdown",
   "metadata": {},
   "source": [
    "The n-order absolute left co-moment of $X$ and $Y$ is defined by $E[|X|^{n-1}|Y|]$  \n",
    "\n",
    "The score is defined by $$\\frac{1}{2}absCorr+\\frac{1}{6}absCosk+\\frac{1}{24}absCoku$$\n",
    "\n",
    "where the $absCorr$, $absCosk$ and $absCoku$ are the 2,3,4 order absolute left co-moment"
   ]
  },
  {
   "cell_type": "code",
   "execution_count": 11,
   "metadata": {},
   "outputs": [],
   "source": [
    "def abs_left_co_moment(X,y,dim,isCentralized = False):\n",
    "    \"\"\"\n",
    "    This function calculates the n-order abs left co-moments\n",
    "    \n",
    "    inputs:\n",
    "    X || Dataframe, includes colunms for to calculate the co-moment with y one-by-one\n",
    "    y || Dataframe , includes one colunms to calculate the co-moment with multiple x in the X\n",
    "    isCentralized || Boolean, if \"True\", use the centralized version of the X and y\n",
    "                                if \"False\", use the original inputs to calculate\n",
    "                                \n",
    "    Output:\n",
    "    result || Series, includes the co-moment for different x in X\n",
    "    \"\"\"\n",
    "    cols = X.columns\n",
    "    if isCentralized:\n",
    "        X = X - X.mean()\n",
    "        y = y - y.mean()\n",
    "    vx = np.abs(X.values.T)\n",
    "    vy = np.abs(y.values.T)\n",
    "    result = []\n",
    "    for i in range(len(vx)):\n",
    "        result.append(np.mean(np.power(vx[i],(dim-1))*vy)/np.power((np.power(np.mean(np.power(vx[i],dim)),dim-1)*np.mean(np.power(vy,dim))),1/dim))\n",
    "    result = pd.Series(result, index =cols) \n",
    "    return result\n",
    "def get_score(X,y,isCentralized = False):\n",
    "    \"\"\"\n",
    "    This function calculates the score: 1/2 absCorr + 1/6 absCosk + 1/24 absCoku\n",
    "    inputs:\n",
    "    X || Dataframe, includes colunms for to calculate the co-moment with y one-by-one\n",
    "    y || Dataframe , includes one colunms to calculate the co-moment with multiple x in the X\n",
    "    isCentralized || Boolean, if \"True\", use the centralized version of the X and y\n",
    "                                if \"False\", use the original inputs to calculate\n",
    "                                \n",
    "    Output:\n",
    "    score || Series, includes the score for different x in X\n",
    "    \"\"\"\n",
    "    abs_corr = abs_left_co_moment(X, y,2,isCentralized)\n",
    "    abs_cosk = abs_left_co_moment(X, y,3,isCentralized)\n",
    "    abs_coku = abs_left_co_moment(X, y,4,isCentralized)\n",
    "    score = 0.5*abs_corr+1/6*abs_cosk+1/24*abs_coku\n",
    "    return score\n",
    "def gen_MC_signals(y,dist):\n",
    "    \"\"\"\n",
    "    This function generates len(y) realizations from a givem distribution\n",
    "    \n",
    "    inputs:\n",
    "    y || dataframe, contains one list of target variables\n",
    "    dist || accept any API from: https://docs.scipy.org/doc/numpy-1.14.0/reference/routines.random.html#distributions\n",
    "    \n",
    "    output:\n",
    "    dataframe || contains one column which is the MC signals\n",
    "    e.g.: gen_MC_signals(y,np.random.standard_normal)\n",
    "    \"\"\"\n",
    "    random = dist(size=len(y))\n",
    "    return pd.Series(random).to_frame()\n",
    "def filter_by_comoment(X,y,w=1,isCentralized = False):\n",
    "    \"\"\"\n",
    "    This function first calculates the MC bar of a given target variable y and filter out features by the MCbar\n",
    "    example: filter_by_comoment(merge_1month_X_df1, y,1.2)[0]\n",
    "    \n",
    "    inputs:\n",
    "    X || Dataframe, includes colunms for to calculate the co-moment with y one-by-one\n",
    "    y || Dataframe , includes one colunms to calculate the co-moment with multiple x in the X\n",
    "    isCentralized || Boolean, if \"True\", use the centralized version of the X and y\n",
    "                                if \"False\", use the original inputs to calculate\n",
    "                                \n",
    "    outputs:\n",
    "    list || a list contains the name of the features after filtered\n",
    "    list || a pd.Series that contains the scores of the above festures\n",
    "    \"\"\"\n",
    "    score = get_score(X,y,isCentralized = False)\n",
    "    MC_bars = []\n",
    "    for i in range(1000):\n",
    "        MC_bars.append(get_score(gen_MC_signals(y,np.random.standard_normal),y).values[0])\n",
    "    MC_bar = np.array(MC_bars).mean()\n",
    "    return list(score[score.between(w*MC_bar,1, inclusive=False)].index), score[score.between(MC_bar,1, inclusive=False)]"
   ]
  },
  {
   "cell_type": "markdown",
   "metadata": {},
   "source": [
    "### A Baseline: filled NaN with mean"
   ]
  },
  {
   "cell_type": "code",
   "execution_count": 12,
   "metadata": {},
   "outputs": [],
   "source": [
    "import xgboost as xgb"
   ]
  },
  {
   "cell_type": "code",
   "execution_count": 13,
   "metadata": {},
   "outputs": [],
   "source": [
    "merge_1month_X_df2 = merge_1month_X.copy()\n",
    "merge_1month_X_df1 = merge_1month_X.iloc[127:].copy()\n",
    "del merge_1month_X_df1['Date']\n",
    "del merge_1month_X_df2['Date']"
   ]
  },
  {
   "cell_type": "code",
   "execution_count": 14,
   "metadata": {},
   "outputs": [],
   "source": [
    "#merge_1month_X_df2 = merge_1month_X_df2.fillna(merge_1month_X_df2.mean())\n",
    "#merge_1month_X_df1 = merge_1month_X_df1.fillna(merge_1month_X_df1.mean())"
   ]
  },
  {
   "cell_type": "code",
   "execution_count": 15,
   "metadata": {},
   "outputs": [],
   "source": [
    "merge_1month_Y_df2 = merge_1month_Y.copy()\n",
    "merge_1month_Y_df1 = merge_1month_Y.iloc[127:].copy()\n",
    "merge_1month_Y_df1 = merge_1month_Y_df1.fillna(method = 'bfill')\n",
    "merge_1month_Y_df1 = merge_1month_Y_df1.fillna(method = 'ffill')\n",
    "merge_1month_Y_df2 = merge_1month_Y_df2.fillna(method = 'bfill')\n",
    "merge_1month_Y_df2 = merge_1month_Y_df2.fillna(method = 'ffill')"
   ]
  },
  {
   "cell_type": "code",
   "execution_count": 16,
   "metadata": {},
   "outputs": [],
   "source": [
    "def get_X_y(X,Y,y_name, is_use_other_y=True):\n",
    "    \"\"\"\n",
    "    This function gives the X and y for the training and testing process\n",
    "    \n",
    "    inputs:\n",
    "    X || dataframe, includes all the trianing data\n",
    "    Y || dataframe, includes all the target data which should be trained one by one in the Classifiers\n",
    "    y_name || string, the name of the variable in the Y.colunms which will be regarded as the target variable in this stage of training\n",
    "    is_use_other_y || Boolean, if \"True\", we are going to concat the lag1 data in the Y (without the target for the model) into X \n",
    "    \n",
    "    outputs:\n",
    "    X || dataframe, may contain the lag1 data of the Y (without the target for the model)\n",
    "    y || dataframe, includes one colnum which is the target variable in this model\n",
    "\n",
    "    ================================== Explanation ==================================\n",
    "    if is_use_other_y is True:\n",
    "    e.g.\n",
    "    inputs: X has colnums like X.colnums = [A, B, C, D, E, F]\n",
    "            y has colnums like Y.colnums = [G, H, I]\n",
    "            only G is the target in this model\n",
    "\n",
    "    outputs: X has colnums like X.colnums = [A, B, C, D, E, F, H_lag1, I_lag1]\n",
    "            y has one colnum which is G\n",
    "\n",
    "    if is_use_other_y is False:\n",
    "    the output will be:\n",
    "    X has colnums like X.colnums = [A, B, C, D, E, F]\n",
    "            y has one colnum which is G\n",
    "    \"\"\"\n",
    "    X_1 = X.copy()\n",
    "    Y_1 = Y.copy()\n",
    "    y = Y_1[y_name].to_frame()\n",
    "    #del X_1['Date']\n",
    "    del Y_1[y_name]\n",
    "    Y_1= Y_1.shift(-1)\n",
    "    Y_1.fillna(method = 'ffill')\n",
    "    if is_use_other_y:\n",
    "        return pd.concat([X_1, Y_1], axis=1, sort=False), y\n",
    "    else:\n",
    "        return X_1,y"
   ]
  },
  {
   "cell_type": "code",
   "execution_count": 17,
   "metadata": {},
   "outputs": [
    {
     "data": {
      "text/plain": [
       "array(['CESIGL Index', 'CESIGL Index 1 month absolute delta',\n",
       "       'CESIGL Index 2 month absolute delta',\n",
       "       'CESIGL Index 3 month absolute delta',\n",
       "       'CESIGL Index 12 month absolute delta', 'CESIGL Index 2 mo avg',\n",
       "       'CESIGL Index 3 mo avg', 'CESIGL Index 6 mo avg',\n",
       "       'CESIGL Index 6 mo avg - 3 mo avg', 'JPEASIEM Index',\n",
       "       'JPEASIEM Index 1 month absolute delta',\n",
       "       'JPEASIEM Index 2 month absolute delta',\n",
       "       'JPEASIEM Index 3 month absolute delta',\n",
       "       'JPEASIEM Index 12 month absolute delta',\n",
       "       'JPEASIEM Index 2 mo avg', 'JPEASIEM Index 3 mo avg',\n",
       "       'JPEASIEM Index 6 mo avg', 'JPEASIEM Index 6 mo avg - 3 mo avg',\n",
       "       'CECICUSD INDEX', 'CECICUSD INDEX 1 month absolute delta',\n",
       "       'CECICUSD INDEX 2 month absolute delta',\n",
       "       'CECICUSD INDEX 3 month absolute delta',\n",
       "       'CECICUSD INDEX 12 month absolute delta',\n",
       "       'CECICUSD INDEX 2 mo avg', 'CECICUSD INDEX 3 mo avg',\n",
       "       'CECICUSD INDEX 6 mo avg', 'CECICUSD INDEX 6 mo avg - 3 mo avg',\n",
       "       'CECICBRI INDEX', 'CECICBRI INDEX 1 month absolute delta',\n",
       "       'CECICBRI INDEX 2 month absolute delta',\n",
       "       'CECICBRI INDEX 3 month absolute delta',\n",
       "       'CECICBRI INDEX 12 month absolute delta',\n",
       "       'CECICBRI INDEX 2 mo avg', 'CECICBRI INDEX 3 mo avg',\n",
       "       'CECICBRI INDEX 6 mo avg', 'CECICBRI INDEX 6 mo avg - 3 mo avg',\n",
       "       'CECICLTA INDEX', 'CECICLTA INDEX 1 month absolute delta',\n",
       "       'CECICLTA INDEX 2 month absolute delta',\n",
       "       'CECICLTA INDEX 3 month absolute delta',\n",
       "       'CECICLTA INDEX 12 month absolute delta',\n",
       "       'CECICLTA INDEX 2 mo avg', 'CECICLTA INDEX 3 mo avg',\n",
       "       'CECICLTA INDEX 6 mo avg', 'CECICLTA INDEX 6 mo avg - 3 mo avg',\n",
       "       'CECIDEUR INDEX', 'CECIDEUR INDEX 1 month absolute delta',\n",
       "       'CECIDEUR INDEX 2 month absolute delta',\n",
       "       'CECIDEUR INDEX 3 month absolute delta',\n",
       "       'CECIDEUR INDEX 12 month absolute delta',\n",
       "       'CECIDEUR INDEX 2 mo avg', 'CECIDEUR INDEX 3 mo avg',\n",
       "       'CECIDEUR INDEX 6 mo avg', 'CECIDEUR INDEX 6 mo avg - 3 mo avg',\n",
       "       'CECIDEM INDEX', 'CECIDEM INDEX 1 month absolute delta',\n",
       "       'CECIDEM INDEX 2 month absolute delta',\n",
       "       'CECIDEM INDEX 3 month absolute delta',\n",
       "       'CECIDEM INDEX 12 month absolute delta', 'CECIDEM INDEX 2 mo avg',\n",
       "       'CECIDEM INDEX 3 mo avg', 'CECIDEM INDEX 6 mo avg',\n",
       "       'CECIDEM INDEX 6 mo avg - 3 mo avg', 'CGUSECOG Index',\n",
       "       'CGUSECOG Index 1 month absolute delta',\n",
       "       'CGUSECOG Index 1 month % change',\n",
       "       'CGUSECOG Index 2 month absolute delta',\n",
       "       'CGUSECOG Index 2 month % change',\n",
       "       'CGUSECOG Index 3 month absolute delta',\n",
       "       'CGUSECOG Index 3 month % change',\n",
       "       'CGUSECOG Index 12 month absolute delta',\n",
       "       'CGUSECOG Index 12 month % change', 'CGUSECOG Index 2 mo avg',\n",
       "       'CGUSECOG Index 3 mo avg', 'CGUSECOG Index 6 mo avg',\n",
       "       'CGUSECOG Index 12 mo avg', 'CGUSECOG Index 6 mo avg - 3 mo avg',\n",
       "       'CGUSECOG Index 3 year Z-score', 'CGUSECOG Index 5 year Z-score',\n",
       "       'LALBLBIM Index', 'LALBLBIM Index 1 month absolute delta',\n",
       "       'LALBLBIM Index 1 month % change',\n",
       "       'LALBLBIM Index 2 month absolute delta',\n",
       "       'LALBLBIM Index 2 month % change',\n",
       "       'LALBLBIM Index 3 month absolute delta',\n",
       "       'LALBLBIM Index 3 month % change',\n",
       "       'LALBLBIM Index 12 month absolute delta',\n",
       "       'LALBLBIM Index 12 month % change', 'LALBLBIM Index 2 mo avg',\n",
       "       'LALBLBIM Index 3 mo avg', 'LALBLBIM Index 6 mo avg',\n",
       "       'LALBLBIM Index 12 mo avg', 'LALBLBIM Index 6 mo avg - 3 mo avg',\n",
       "       'LALBLBIM Index 3 year Z-score', 'LALBLBIM Index 5 year Z-score',\n",
       "       'CNIFSVCT Index', 'CNIFSVCT Index 1 month absolute delta',\n",
       "       'CNIFSVCT Index 1 month % change',\n",
       "       'CNIFSVCT Index 2 month absolute delta',\n",
       "       'CNIFSVCT Index 2 month % change',\n",
       "       'CNIFSVCT Index 3 month absolute delta',\n",
       "       'CNIFSVCT Index 3 month % change',\n",
       "       'CNIFSVCT Index 12 month absolute delta',\n",
       "       'CNIFSVCT Index 12 month % change', 'CNIFSVCT Index 2 mo avg',\n",
       "       'CNIFSVCT Index 3 mo avg', 'CNIFSVCT Index 6 mo avg',\n",
       "       'CNIFSVCT Index 12 mo avg', 'CNIFSVCT Index 6 mo avg - 3 mo avg',\n",
       "       'CNIFSVCT Index 3 year Z-score', 'CNIFSVCT Index 5 year Z-score',\n",
       "       'GSDECAI Index', 'GSDECAI Index 1 month absolute delta',\n",
       "       'GSDECAI Index 2 month absolute delta',\n",
       "       'GSDECAI Index 3 month absolute delta',\n",
       "       'GSDECAI Index 12 month absolute delta', 'GSDECAI Index 2 mo avg',\n",
       "       'GSDECAI Index 3 mo avg', 'GSDECAI Index 6 mo avg',\n",
       "       'GSDECAI Index 6 mo avg - 3 mo avg', 'GSGBCAI Index',\n",
       "       'GSGBCAI Index 1 month absolute delta',\n",
       "       'GSGBCAI Index 2 month absolute delta',\n",
       "       'GSGBCAI Index 3 month absolute delta',\n",
       "       'GSGBCAI Index 12 month absolute delta', 'GSGBCAI Index 2 mo avg',\n",
       "       'GSGBCAI Index 3 mo avg', 'GSGBCAI Index 6 mo avg',\n",
       "       'GSGBCAI Index 6 mo avg - 3 mo avg', 'GSEACAII Index',\n",
       "       'GSEACAII Index 1 month absolute delta',\n",
       "       'GSEACAII Index 2 month absolute delta',\n",
       "       'GSEACAII Index 3 month absolute delta',\n",
       "       'GSEACAII Index 12 month absolute delta',\n",
       "       'GSEACAII Index 2 mo avg', 'GSEACAII Index 3 mo avg',\n",
       "       'GSEACAII Index 6 mo avg', 'GSEACAII Index 6 mo avg - 3 mo avg',\n",
       "       'CIICDUSD INDEX', 'CIICDUSD INDEX 1 month absolute delta',\n",
       "       'CIICDUSD INDEX 2 month absolute delta',\n",
       "       'CIICDUSD INDEX 3 month absolute delta',\n",
       "       'CIICDUSD INDEX 12 month absolute delta',\n",
       "       'CIICDUSD INDEX 2 mo avg', 'CIICDUSD INDEX 3 mo avg',\n",
       "       'CIICDUSD INDEX 6 mo avg', 'CIICDUSD INDEX 6 mo avg - 3 mo avg',\n",
       "       'CIICDG10 INDEX', 'CIICDG10 INDEX 1 month absolute delta',\n",
       "       'CIICDG10 INDEX 2 month absolute delta',\n",
       "       'CIICDG10 INDEX 3 month absolute delta',\n",
       "       'CIICDG10 INDEX 12 month absolute delta',\n",
       "       'CIICDG10 INDEX 2 mo avg', 'CIICDG10 INDEX 3 mo avg',\n",
       "       'CIICDG10 INDEX 6 mo avg', 'CIICDG10 INDEX 6 mo avg - 3 mo avg',\n",
       "       'CIICDGBP INDEX', 'CIICDGBP INDEX 1 month absolute delta',\n",
       "       'CIICDGBP INDEX 2 month absolute delta',\n",
       "       'CIICDGBP INDEX 3 month absolute delta',\n",
       "       'CIICDGBP INDEX 12 month absolute delta',\n",
       "       'CIICDGBP INDEX 2 mo avg', 'CIICDGBP INDEX 3 mo avg',\n",
       "       'CIICDGBP INDEX 6 mo avg', 'CIICDGBP INDEX 6 mo avg - 3 mo avg',\n",
       "       'CSIIUSD INDEX', 'CSIIUSD INDEX 1 month absolute delta',\n",
       "       'CSIIUSD INDEX 2 month absolute delta',\n",
       "       'CSIIUSD INDEX 3 month absolute delta',\n",
       "       'CSIIUSD INDEX 12 month absolute delta', 'CSIIUSD INDEX 2 mo avg',\n",
       "       'CSIIUSD INDEX 3 mo avg', 'CSIIUSD INDEX 6 mo avg',\n",
       "       'CSIIUSD INDEX 6 mo avg - 3 mo avg', 'CSIIG10 INDEX',\n",
       "       'CSIIG10 INDEX 1 month absolute delta',\n",
       "       'CSIIG10 INDEX 2 month absolute delta',\n",
       "       'CSIIG10 INDEX 3 month absolute delta',\n",
       "       'CSIIG10 INDEX 12 month absolute delta', 'CSIIG10 INDEX 2 mo avg',\n",
       "       'CSIIG10 INDEX 3 mo avg', 'CSIIG10 INDEX 6 mo avg',\n",
       "       'CSIIG10 INDEX 6 mo avg - 3 mo avg', 'CSIIGBP INDEX',\n",
       "       'CSIIGBP INDEX 1 month absolute delta',\n",
       "       'CSIIGBP INDEX 2 month absolute delta',\n",
       "       'CSIIGBP INDEX 3 month absolute delta',\n",
       "       'CSIIGBP INDEX 12 month absolute delta', 'CSIIGBP INDEX 2 mo avg',\n",
       "       'CSIIGBP INDEX 3 mo avg', 'CSIIGBP INDEX 6 mo avg',\n",
       "       'CSIIGBP INDEX 6 mo avg - 3 mo avg', 'UIGDPRIC Index',\n",
       "       'UIGDPRIC Index 1 month absolute delta',\n",
       "       'UIGDPRIC Index 1 month % change',\n",
       "       'UIGDPRIC Index 2 month absolute delta',\n",
       "       'UIGDPRIC Index 2 month % change',\n",
       "       'UIGDPRIC Index 3 month absolute delta',\n",
       "       'UIGDPRIC Index 3 month % change',\n",
       "       'UIGDPRIC Index 12 month absolute delta',\n",
       "       'UIGDPRIC Index 12 month % change', 'UIGDPRIC Index 2 mo avg',\n",
       "       'UIGDPRIC Index 3 mo avg', 'UIGDPRIC Index 6 mo avg',\n",
       "       'UIGDPRIC Index 12 mo avg', 'UIGDPRIC Index 6 mo avg - 3 mo avg',\n",
       "       'UIGDPRIC Index 3 year Z-score', 'UIGDPRIC Index 5 year Z-score',\n",
       "       'CRBIX INDEX', 'CRBIX INDEX 1 month absolute delta',\n",
       "       'CRBIX INDEX 1 month % change',\n",
       "       'CRBIX INDEX 2 month absolute delta',\n",
       "       'CRBIX INDEX 2 month % change',\n",
       "       'CRBIX INDEX 3 month absolute delta',\n",
       "       'CRBIX INDEX 3 month % change',\n",
       "       'CRBIX INDEX 12 month absolute delta',\n",
       "       'CRBIX INDEX 12 month % change', 'CRBIX INDEX 2 mo avg',\n",
       "       'CRBIX INDEX 3 mo avg', 'CRBIX INDEX 6 mo avg',\n",
       "       'CRBIX INDEX 12 mo avg', 'CRBIX INDEX 6 mo avg - 3 mo avg',\n",
       "       'CRBIX INDEX 3 year Z-score', 'CRBIX INDEX 5 year Z-score',\n",
       "       'CIISCIEP Index', 'CIISCIEP Index 1 month absolute delta',\n",
       "       'CIISCIEP Index 1 month % change',\n",
       "       'CIISCIEP Index 2 month absolute delta',\n",
       "       'CIISCIEP Index 2 month % change',\n",
       "       'CIISCIEP Index 3 month absolute delta',\n",
       "       'CIISCIEP Index 3 month % change',\n",
       "       'CIISCIEP Index 12 month absolute delta',\n",
       "       'CIISCIEP Index 12 month % change', 'CIISCIEP Index 2 mo avg',\n",
       "       'CIISCIEP Index 3 mo avg', 'CIISCIEP Index 6 mo avg',\n",
       "       'CIISCIEP Index 12 mo avg', 'CIISCIEP Index 6 mo avg - 3 mo avg',\n",
       "       'CIISCIEP Index 3 year Z-score', 'CIISCIEP Index 5 year Z-score',\n",
       "       'EPUCGLOB Index', 'EPUCGLOB Index 1 month absolute delta',\n",
       "       'EPUCGLOB Index 1 month % change',\n",
       "       'EPUCGLOB Index 2 month absolute delta',\n",
       "       'EPUCGLOB Index 2 month % change',\n",
       "       'EPUCGLOB Index 3 month absolute delta',\n",
       "       'EPUCGLOB Index 3 month % change',\n",
       "       'EPUCGLOB Index 12 month absolute delta',\n",
       "       'EPUCGLOB Index 12 month % change', 'EPUCGLOB Index 2 mo avg',\n",
       "       'EPUCGLOB Index 3 mo avg', 'EPUCGLOB Index 6 mo avg',\n",
       "       'EPUCGLOB Index 12 mo avg', 'EPUCGLOB Index 6 mo avg - 3 mo avg',\n",
       "       'EPUCGLOB Index 3 year Z-score', 'EPUCGLOB Index 5 year Z-score',\n",
       "       'EPUCJNTP Index', 'EPUCJNTP Index 1 month absolute delta',\n",
       "       'EPUCJNTP Index 1 month % change',\n",
       "       'EPUCJNTP Index 2 month absolute delta',\n",
       "       'EPUCJNTP Index 2 month % change',\n",
       "       'EPUCJNTP Index 3 month absolute delta',\n",
       "       'EPUCJNTP Index 3 month % change',\n",
       "       'EPUCJNTP Index 12 month absolute delta',\n",
       "       'EPUCJNTP Index 12 month % change', 'EPUCJNTP Index 2 mo avg',\n",
       "       'EPUCJNTP Index 3 mo avg', 'EPUCJNTP Index 6 mo avg',\n",
       "       'EPUCJNTP Index 12 mo avg', 'EPUCJNTP Index 6 mo avg - 3 mo avg',\n",
       "       'EPUCJNTP Index 3 year Z-score', 'EPUCJNTP Index 5 year Z-score',\n",
       "       'EPUCJNMP Index', 'EPUCJNMP Index 1 month absolute delta',\n",
       "       'EPUCJNMP Index 1 month % change',\n",
       "       'EPUCJNMP Index 2 month absolute delta',\n",
       "       'EPUCJNMP Index 2 month % change',\n",
       "       'EPUCJNMP Index 3 month absolute delta',\n",
       "       'EPUCJNMP Index 3 month % change',\n",
       "       'EPUCJNMP Index 12 month absolute delta',\n",
       "       'EPUCJNMP Index 12 month % change', 'EPUCJNMP Index 2 mo avg',\n",
       "       'EPUCJNMP Index 3 mo avg', 'EPUCJNMP Index 6 mo avg',\n",
       "       'EPUCJNMP Index 12 mo avg', 'EPUCJNMP Index 6 mo avg - 3 mo avg',\n",
       "       'EPUCJNMP Index 3 year Z-score', 'EPUCJNMP Index 5 year Z-score',\n",
       "       'EPUCNUSD Index', 'EPUCNUSD Index 1 month absolute delta',\n",
       "       'EPUCNUSD Index 1 month % change',\n",
       "       'EPUCNUSD Index 2 month absolute delta',\n",
       "       'EPUCNUSD Index 2 month % change',\n",
       "       'EPUCNUSD Index 3 month absolute delta',\n",
       "       'EPUCNUSD Index 3 month % change',\n",
       "       'EPUCNUSD Index 12 month absolute delta',\n",
       "       'EPUCNUSD Index 12 month % change', 'EPUCNUSD Index 2 mo avg',\n",
       "       'EPUCNUSD Index 3 mo avg', 'EPUCNUSD Index 6 mo avg',\n",
       "       'EPUCNUSD Index 12 mo avg', 'EPUCNUSD Index 6 mo avg - 3 mo avg',\n",
       "       'EPUCNUSD Index 3 year Z-score', 'EPUCNUSD Index 5 year Z-score',\n",
       "       'EPUCCUSM Index', 'EPUCCUSM Index 1 month absolute delta',\n",
       "       'EPUCCUSM Index 1 month % change',\n",
       "       'EPUCCUSM Index 2 month absolute delta',\n",
       "       'EPUCCUSM Index 2 month % change',\n",
       "       'EPUCCUSM Index 3 month absolute delta',\n",
       "       'EPUCCUSM Index 3 month % change',\n",
       "       'EPUCCUSM Index 12 month absolute delta',\n",
       "       'EPUCCUSM Index 12 month % change', 'EPUCCUSM Index 2 mo avg',\n",
       "       'EPUCCUSM Index 3 mo avg', 'EPUCCUSM Index 6 mo avg',\n",
       "       'EPUCCUSM Index 12 mo avg', 'EPUCCUSM Index 6 mo avg - 3 mo avg',\n",
       "       'EPUCCUSM Index 3 year Z-score', 'EPUCCUSM Index 5 year Z-score',\n",
       "       'EPUCMONE Index', 'EPUCMONE Index 1 month absolute delta',\n",
       "       'EPUCMONE Index 1 month % change',\n",
       "       'EPUCMONE Index 2 month absolute delta',\n",
       "       'EPUCMONE Index 2 month % change',\n",
       "       'EPUCMONE Index 3 month absolute delta',\n",
       "       'EPUCMONE Index 3 month % change',\n",
       "       'EPUCMONE Index 12 month absolute delta',\n",
       "       'EPUCMONE Index 12 month % change', 'EPUCMONE Index 2 mo avg',\n",
       "       'EPUCMONE Index 3 mo avg', 'EPUCMONE Index 6 mo avg',\n",
       "       'EPUCMONE Index 12 mo avg', 'EPUCMONE Index 6 mo avg - 3 mo avg',\n",
       "       'EPUCMONE Index 3 year Z-score', 'EPUCMONE Index 5 year Z-score',\n",
       "       'FEPUUSE Index', 'FEPUUSE Index 1 month absolute delta',\n",
       "       'FEPUUSE Index 1 month % change',\n",
       "       'FEPUUSE Index 2 month absolute delta',\n",
       "       'FEPUUSE Index 2 month % change',\n",
       "       'FEPUUSE Index 3 month absolute delta',\n",
       "       'FEPUUSE Index 3 month % change',\n",
       "       'FEPUUSE Index 12 month absolute delta',\n",
       "       'FEPUUSE Index 12 month % change', 'FEPUUSE Index 2 mo avg',\n",
       "       'FEPUUSE Index 3 mo avg', 'FEPUUSE Index 6 mo avg',\n",
       "       'FEPUUSE Index 12 mo avg', 'FEPUUSE Index 6 mo avg - 3 mo avg',\n",
       "       'FEPUUSE Index 3 year Z-score', 'FEPUUSE Index 5 year Z-score',\n",
       "       'EPUCFR   Index', 'EPUCFR   Index 1 month absolute delta',\n",
       "       'EPUCFR   Index 1 month % change',\n",
       "       'EPUCFR   Index 2 month absolute delta',\n",
       "       'EPUCFR   Index 2 month % change',\n",
       "       'EPUCFR   Index 3 month absolute delta',\n",
       "       'EPUCFR   Index 3 month % change',\n",
       "       'EPUCFR   Index 12 month absolute delta',\n",
       "       'EPUCFR   Index 12 month % change', 'EPUCFR   Index 2 mo avg',\n",
       "       'EPUCFR   Index 3 mo avg', 'EPUCFR   Index 6 mo avg',\n",
       "       'EPUCFR   Index 12 mo avg', 'EPUCFR   Index 6 mo avg - 3 mo avg',\n",
       "       'EPUCFR   Index 3 year Z-score', 'EPUCFR   Index 5 year Z-score',\n",
       "       'EPUCSP   Index', 'EPUCSP   Index 1 month absolute delta',\n",
       "       'EPUCSP   Index 1 month % change',\n",
       "       'EPUCSP   Index 2 month absolute delta',\n",
       "       'EPUCSP   Index 2 month % change',\n",
       "       'EPUCSP   Index 3 month absolute delta',\n",
       "       'EPUCSP   Index 3 month % change',\n",
       "       'EPUCSP   Index 12 month absolute delta',\n",
       "       'EPUCSP   Index 12 month % change', 'EPUCSP   Index 2 mo avg',\n",
       "       'EPUCSP   Index 3 mo avg', 'EPUCSP   Index 6 mo avg',\n",
       "       'EPUCSP   Index 12 mo avg', 'EPUCSP   Index 6 mo avg - 3 mo avg',\n",
       "       'EPUCSP   Index 3 year Z-score', 'EPUCSP   Index 5 year Z-score',\n",
       "       'CONSGOVR Index', 'CONSGOVR Index 1 month absolute delta',\n",
       "       'CONSGOVR Index 1 month % change',\n",
       "       'CONSGOVR Index 2 month absolute delta',\n",
       "       'CONSGOVR Index 2 month % change',\n",
       "       'CONSGOVR Index 3 month absolute delta',\n",
       "       'CONSGOVR Index 3 month % change',\n",
       "       'CONSGOVR Index 12 month absolute delta',\n",
       "       'CONSGOVR Index 12 month % change', 'CONSGOVR Index 2 mo avg',\n",
       "       'CONSGOVR Index 3 mo avg', 'CONSGOVR Index 6 mo avg',\n",
       "       'CONSGOVR Index 12 mo avg', 'CONSGOVR Index 6 mo avg - 3 mo avg',\n",
       "       'CONSGOVR Index 3 year Z-score', 'CONSGOVR Index 5 year Z-score',\n",
       "       'CLEVCPIA Index', 'CLEVCPIA Index 1 month absolute delta',\n",
       "       'CLEVCPIA Index 1 month % change',\n",
       "       'CLEVCPIA Index 2 month absolute delta',\n",
       "       'CLEVCPIA Index 2 month % change',\n",
       "       'CLEVCPIA Index 3 month absolute delta',\n",
       "       'CLEVCPIA Index 3 month % change',\n",
       "       'CLEVCPIA Index 12 month absolute delta',\n",
       "       'CLEVCPIA Index 12 month % change', 'CLEVCPIA Index 2 mo avg',\n",
       "       'CLEVCPIA Index 3 mo avg', 'CLEVCPIA Index 6 mo avg',\n",
       "       'CLEVCPIA Index 12 mo avg', 'CLEVCPIA Index 6 mo avg - 3 mo avg',\n",
       "       'CLEVCPIA Index 3 year Z-score', 'CLEVCPIA Index 5 year Z-score',\n",
       "       'CGNOXAY% Index', 'CGNOXAY% Index 1 month absolute delta',\n",
       "       'CGNOXAY% Index 2 month absolute delta',\n",
       "       'CGNOXAY% Index 3 month absolute delta',\n",
       "       'CGNOXAY% Index 12 month absolute delta',\n",
       "       'CGNOXAY% Index 2 mo avg', 'CGNOXAY% Index 3 mo avg',\n",
       "       'CGNOXAY% Index 6 mo avg', 'CGNOXAY% Index 6 mo avg - 3 mo avg',\n",
       "       'JPM Global Manufacturing Export orders',\n",
       "       'JPM Global Manufacturing Export orders 1 month absolute delta',\n",
       "       'JPM Global Manufacturing Export orders 1 month % change',\n",
       "       'JPM Global Manufacturing Export orders 2 month absolute delta',\n",
       "       'JPM Global Manufacturing Export orders 2 month % change',\n",
       "       'JPM Global Manufacturing Export orders 3 month absolute delta',\n",
       "       'JPM Global Manufacturing Export orders 3 month % change',\n",
       "       'JPM Global Manufacturing Export orders 12 month absolute delta',\n",
       "       'JPM Global Manufacturing Export orders 12 month % change',\n",
       "       'JPM Global Manufacturing Export orders 2 mo avg',\n",
       "       'JPM Global Manufacturing Export orders 3 mo avg',\n",
       "       'JPM Global Manufacturing Export orders 6 mo avg',\n",
       "       'JPM Global Manufacturing Export orders 12 mo avg',\n",
       "       'JPM Global Manufacturing Export orders 6 mo avg - 3 mo avg',\n",
       "       'JPM Global Manufacturing Export orders 3 year Z-score',\n",
       "       'JPM Global Manufacturing Export orders 5 year Z-score',\n",
       "       'EUESDE Index', 'EUESDE Index 1 month absolute delta',\n",
       "       'EUESDE Index 1 month % change',\n",
       "       'EUESDE Index 2 month absolute delta',\n",
       "       'EUESDE Index 2 month % change',\n",
       "       'EUESDE Index 3 month absolute delta',\n",
       "       'EUESDE Index 3 month % change',\n",
       "       'EUESDE Index 12 month absolute delta',\n",
       "       'EUESDE Index 12 month % change', 'EUESDE Index 2 mo avg',\n",
       "       'EUESDE Index 3 mo avg', 'EUESDE Index 6 mo avg',\n",
       "       'EUESDE Index 12 mo avg', 'EUESDE Index 6 mo avg - 3 mo avg',\n",
       "       'EUESDE Index 3 year Z-score', 'EUESDE Index 5 year Z-score',\n",
       "       'EUESIT Index', 'EUESIT Index 1 month absolute delta',\n",
       "       'EUESIT Index 1 month % change',\n",
       "       'EUESIT Index 2 month absolute delta',\n",
       "       'EUESIT Index 2 month % change',\n",
       "       'EUESIT Index 3 month absolute delta',\n",
       "       'EUESIT Index 3 month % change',\n",
       "       'EUESIT Index 12 month absolute delta',\n",
       "       'EUESIT Index 12 month % change', 'EUESIT Index 2 mo avg',\n",
       "       'EUESIT Index 3 mo avg', 'EUESIT Index 6 mo avg',\n",
       "       'EUESIT Index 12 mo avg', 'EUESIT Index 6 mo avg - 3 mo avg',\n",
       "       'EUESIT Index 3 year Z-score', 'EUESIT Index 5 year Z-score',\n",
       "       'CONCCONF Index', 'CONCCONF Index 1 month absolute delta',\n",
       "       'CONCCONF Index 1 month % change',\n",
       "       'CONCCONF Index 2 month absolute delta',\n",
       "       'CONCCONF Index 2 month % change',\n",
       "       'CONCCONF Index 3 month absolute delta',\n",
       "       'CONCCONF Index 3 month % change',\n",
       "       'CONCCONF Index 12 month absolute delta',\n",
       "       'CONCCONF Index 12 month % change', 'CONCCONF Index 2 mo avg',\n",
       "       'CONCCONF Index 3 mo avg', 'CONCCONF Index 6 mo avg',\n",
       "       'CONCCONF Index 12 mo avg', 'CONCCONF Index 6 mo avg - 3 mo avg',\n",
       "       'CONCCONF Index 3 year Z-score', 'CONCCONF Index 5 year Z-score',\n",
       "       'COMFCOMF Index', 'COMFCOMF Index 1 month absolute delta',\n",
       "       'COMFCOMF Index 1 month % change',\n",
       "       'COMFCOMF Index 2 month absolute delta',\n",
       "       'COMFCOMF Index 2 month % change',\n",
       "       'COMFCOMF Index 3 month absolute delta',\n",
       "       'COMFCOMF Index 3 month % change',\n",
       "       'COMFCOMF Index 12 month absolute delta',\n",
       "       'COMFCOMF Index 12 month % change', 'COMFCOMF Index 2 mo avg',\n",
       "       'COMFCOMF Index 3 mo avg', 'COMFCOMF Index 6 mo avg',\n",
       "       'COMFCOMF Index 12 mo avg', 'COMFCOMF Index 6 mo avg - 3 mo avg',\n",
       "       'COMFCOMF Index 3 year Z-score', 'COMFCOMF Index 5 year Z-score',\n",
       "       'CONSEXFB Index', 'CONSEXFB Index 1 month absolute delta',\n",
       "       'CONSEXFB Index 1 month % change',\n",
       "       'CONSEXFB Index 2 month absolute delta',\n",
       "       'CONSEXFB Index 2 month % change',\n",
       "       'CONSEXFB Index 3 month absolute delta',\n",
       "       'CONSEXFB Index 3 month % change',\n",
       "       'CONSEXFB Index 12 month absolute delta',\n",
       "       'CONSEXFB Index 12 month % change', 'CONSEXFB Index 2 mo avg',\n",
       "       'CONSEXFB Index 3 mo avg', 'CONSEXFB Index 6 mo avg',\n",
       "       'CONSEXFB Index 12 mo avg', 'CONSEXFB Index 6 mo avg - 3 mo avg',\n",
       "       'CONSEXFB Index 3 year Z-score', 'CONSEXFB Index 5 year Z-score',\n",
       "       'CONSUEXU Index', 'CONSUEXU Index 1 month absolute delta',\n",
       "       'CONSUEXU Index 1 month % change',\n",
       "       'CONSUEXU Index 2 month absolute delta',\n",
       "       'CONSUEXU Index 2 month % change',\n",
       "       'CONSUEXU Index 3 month absolute delta',\n",
       "       'CONSUEXU Index 3 month % change',\n",
       "       'CONSUEXU Index 12 month absolute delta',\n",
       "       'CONSUEXU Index 12 month % change', 'CONSUEXU Index 2 mo avg',\n",
       "       'CONSUEXU Index 3 mo avg', 'CONSUEXU Index 6 mo avg',\n",
       "       'CONSUEXU Index 12 mo avg', 'CONSUEXU Index 6 mo avg - 3 mo avg',\n",
       "       'CONSUEXU Index 3 year Z-score', 'CONSUEXU Index 5 year Z-score',\n",
       "       'FRCCCARS Index', 'FRCCCARS Index 1 month absolute delta',\n",
       "       'FRCCCARS Index 2 month absolute delta',\n",
       "       'FRCCCARS Index 3 month absolute delta',\n",
       "       'FRCCCARS Index 12 month absolute delta',\n",
       "       'FRCCCARS Index 2 mo avg', 'FRCCCARS Index 3 mo avg',\n",
       "       'FRCCCARS Index 6 mo avg', 'FRCCCARS Index 6 mo avg - 3 mo avg',\n",
       "       'GRCCI Index', 'GRCCI Index 1 month absolute delta',\n",
       "       'GRCCI Index 1 month % change',\n",
       "       'GRCCI Index 2 month absolute delta',\n",
       "       'GRCCI Index 2 month % change',\n",
       "       'GRCCI Index 3 month absolute delta',\n",
       "       'GRCCI Index 3 month % change',\n",
       "       'GRCCI Index 12 month absolute delta',\n",
       "       'GRCCI Index 12 month % change', 'GRCCI Index 2 mo avg',\n",
       "       'GRCCI Index 3 mo avg', 'GRCCI Index 6 mo avg',\n",
       "       'GRCCI Index 12 mo avg', 'GRCCI Index 6 mo avg - 3 mo avg',\n",
       "       'GRCCI Index 3 year Z-score', 'GRCCI Index 5 year Z-score',\n",
       "       'ITPSCURR Index', 'ITPSCURR Index 1 month absolute delta',\n",
       "       'ITPSCURR Index 1 month % change',\n",
       "       'ITPSCURR Index 2 month absolute delta',\n",
       "       'ITPSCURR Index 2 month % change',\n",
       "       'ITPSCURR Index 3 month absolute delta',\n",
       "       'ITPSCURR Index 3 month % change',\n",
       "       'ITPSCURR Index 12 month absolute delta',\n",
       "       'ITPSCURR Index 12 month % change', 'ITPSCURR Index 2 mo avg',\n",
       "       'ITPSCURR Index 3 mo avg', 'ITPSCURR Index 6 mo avg',\n",
       "       'ITPSCURR Index 12 mo avg', 'ITPSCURR Index 6 mo avg - 3 mo avg',\n",
       "       'ITPSCURR Index 3 year Z-score', 'ITPSCURR Index 5 year Z-score',\n",
       "       'ITPSNAT Index', 'ITPSNAT Index 1 month absolute delta',\n",
       "       'ITPSNAT Index 1 month % change',\n",
       "       'ITPSNAT Index 2 month absolute delta',\n",
       "       'ITPSNAT Index 2 month % change',\n",
       "       'ITPSNAT Index 3 month absolute delta',\n",
       "       'ITPSNAT Index 3 month % change',\n",
       "       'ITPSNAT Index 12 month absolute delta',\n",
       "       'ITPSNAT Index 12 month % change', 'ITPSNAT Index 2 mo avg',\n",
       "       'ITPSNAT Index 3 mo avg', 'ITPSNAT Index 6 mo avg',\n",
       "       'ITPSNAT Index 12 mo avg', 'ITPSNAT Index 6 mo avg - 3 mo avg',\n",
       "       'ITPSNAT Index 3 year Z-score', 'ITPSNAT Index 5 year Z-score',\n",
       "       'ITPSECOF Index', 'ITPSECOF Index 1 month absolute delta',\n",
       "       'ITPSECOF Index 2 month absolute delta',\n",
       "       'ITPSECOF Index 3 month absolute delta',\n",
       "       'ITPSECOF Index 12 month absolute delta',\n",
       "       'ITPSECOF Index 2 mo avg', 'ITPSECOF Index 3 mo avg',\n",
       "       'ITPSECOF Index 6 mo avg', 'ITPSECOF Index 6 mo avg - 3 mo avg',\n",
       "       'ITPSPERS Index', 'ITPSPERS Index 1 month absolute delta',\n",
       "       'ITPSPERS Index 1 month % change',\n",
       "       'ITPSPERS Index 2 month absolute delta',\n",
       "       'ITPSPERS Index 2 month % change',\n",
       "       'ITPSPERS Index 3 month absolute delta',\n",
       "       'ITPSPERS Index 3 month % change',\n",
       "       'ITPSPERS Index 12 month absolute delta',\n",
       "       'ITPSPERS Index 12 month % change', 'ITPSPERS Index 2 mo avg',\n",
       "       'ITPSPERS Index 3 mo avg', 'ITPSPERS Index 6 mo avg',\n",
       "       'ITPSPERS Index 12 mo avg', 'ITPSPERS Index 6 mo avg - 3 mo avg',\n",
       "       'ITPSPERS Index 3 year Z-score', 'ITPSPERS Index 5 year Z-score',\n",
       "       'ITPSFFIE Index', 'ITPSFFIE Index 1 month absolute delta',\n",
       "       'ITPSFFIE Index 2 month absolute delta',\n",
       "       'ITPSFFIE Index 3 month absolute delta',\n",
       "       'ITPSFFIE Index 12 month absolute delta',\n",
       "       'ITPSFFIE Index 2 mo avg', 'ITPSFFIE Index 3 mo avg',\n",
       "       'ITPSFFIE Index 6 mo avg', 'ITPSFFIE Index 6 mo avg - 3 mo avg',\n",
       "       'ITPSSAVC Index', 'ITPSSAVC Index 1 month absolute delta',\n",
       "       'ITPSSAVC Index 1 month % change',\n",
       "       'ITPSSAVC Index 2 month absolute delta',\n",
       "       'ITPSSAVC Index 2 month % change',\n",
       "       'ITPSSAVC Index 3 month absolute delta',\n",
       "       'ITPSSAVC Index 3 month % change',\n",
       "       'ITPSSAVC Index 12 month absolute delta',\n",
       "       'ITPSSAVC Index 12 month % change', 'ITPSSAVC Index 2 mo avg',\n",
       "       'ITPSSAVC Index 3 mo avg', 'ITPSSAVC Index 6 mo avg',\n",
       "       'ITPSSAVC Index 12 mo avg', 'ITPSSAVC Index 6 mo avg - 3 mo avg',\n",
       "       'ITPSSAVC Index 3 year Z-score', 'ITPSSAVC Index 5 year Z-score',\n",
       "       'ITPSDUR Index', 'ITPSDUR Index 1 month absolute delta',\n",
       "       'ITPSDUR Index 2 month absolute delta',\n",
       "       'ITPSDUR Index 3 month absolute delta',\n",
       "       'ITPSDUR Index 12 month absolute delta', 'ITPSDUR Index 2 mo avg',\n",
       "       'ITPSDUR Index 3 mo avg', 'ITPSDUR Index 6 mo avg',\n",
       "       'ITPSDUR Index 6 mo avg - 3 mo avg', 'CHCSEXPC Index',\n",
       "       'CHCSEXPC Index 1 month absolute delta',\n",
       "       'CHCSEXPC Index 1 month % change',\n",
       "       'CHCSEXPC Index 2 month absolute delta',\n",
       "       'CHCSEXPC Index 2 month % change',\n",
       "       'CHCSEXPC Index 3 month absolute delta',\n",
       "       'CHCSEXPC Index 3 month % change',\n",
       "       'CHCSEXPC Index 12 month absolute delta',\n",
       "       'CHCSEXPC Index 12 month % change', 'CHCSEXPC Index 2 mo avg',\n",
       "       'CHCSEXPC Index 3 mo avg', 'CHCSEXPC Index 6 mo avg',\n",
       "       'CHCSEXPC Index 12 mo avg', 'CHCSEXPC Index 6 mo avg - 3 mo avg',\n",
       "       'CHCSEXPC Index 3 year Z-score', 'CHCSEXPC Index 5 year Z-score',\n",
       "       'CHCSCONF Index', 'CHCSCONF Index 1 month absolute delta',\n",
       "       'CHCSCONF Index 1 month % change',\n",
       "       'CHCSCONF Index 2 month absolute delta',\n",
       "       'CHCSCONF Index 2 month % change',\n",
       "       'CHCSCONF Index 3 month absolute delta',\n",
       "       'CHCSCONF Index 3 month % change',\n",
       "       'CHCSCONF Index 12 month absolute delta',\n",
       "       'CHCSCONF Index 12 month % change', 'CHCSCONF Index 2 mo avg',\n",
       "       'CHCSCONF Index 3 mo avg', 'CHCSCONF Index 6 mo avg',\n",
       "       'CHCSCONF Index 12 mo avg', 'CHCSCONF Index 6 mo avg - 3 mo avg',\n",
       "       'CHCSCONF Index 3 year Z-score', 'CHCSCONF Index 5 year Z-score',\n",
       "       'JCOMHCF Index', 'JCOMHCF Index 1 month absolute delta',\n",
       "       'JCOMHCF Index 1 month % change',\n",
       "       'JCOMHCF Index 2 month absolute delta',\n",
       "       'JCOMHCF Index 2 month % change',\n",
       "       'JCOMHCF Index 3 month absolute delta',\n",
       "       'JCOMHCF Index 3 month % change',\n",
       "       'JCOMHCF Index 12 month absolute delta',\n",
       "       'JCOMHCF Index 12 month % change', 'JCOMHCF Index 2 mo avg',\n",
       "       'JCOMHCF Index 3 mo avg', 'JCOMHCF Index 6 mo avg',\n",
       "       'JCOMHCF Index 12 mo avg', 'JCOMHCF Index 6 mo avg - 3 mo avg',\n",
       "       'JCOMHCF Index 3 year Z-score', 'JCOMHCF Index 5 year Z-score',\n",
       "       'UKCCI Index', 'UKCCI Index 1 month absolute delta',\n",
       "       'UKCCI Index 2 month absolute delta',\n",
       "       'UKCCI Index 3 month absolute delta',\n",
       "       'UKCCI Index 12 month absolute delta', 'UKCCI Index 2 mo avg',\n",
       "       'UKCCI Index 3 mo avg', 'UKCCI Index 6 mo avg',\n",
       "       'UKCCI Index 6 mo avg - 3 mo avg', 'UKCCFINA Index',\n",
       "       'UKCCFINA Index 1 month absolute delta',\n",
       "       'UKCCFINA Index 2 month absolute delta',\n",
       "       'UKCCFINA Index 3 month absolute delta',\n",
       "       'UKCCFINA Index 12 month absolute delta',\n",
       "       'UKCCFINA Index 2 mo avg', 'UKCCFINA Index 3 mo avg',\n",
       "       'UKCCFINA Index 6 mo avg', 'UKCCFINA Index 6 mo avg - 3 mo avg',\n",
       "       'EUCBLIYY Index', 'EUCBLIYY Index 1 month absolute delta',\n",
       "       'EUCBLIYY Index 2 month absolute delta',\n",
       "       'EUCBLIYY Index 3 month absolute delta',\n",
       "       'EUCBLIYY Index 12 month absolute delta',\n",
       "       'EUCBLIYY Index 2 mo avg', 'EUCBLIYY Index 3 mo avg',\n",
       "       'EUCBLIYY Index 6 mo avg', 'EUCBLIYY Index 6 mo avg - 3 mo avg',\n",
       "       'TWCILIY Index', 'TWCILIY Index 1 month absolute delta',\n",
       "       'TWCILIY Index 2 month absolute delta',\n",
       "       'TWCILIY Index 3 month absolute delta',\n",
       "       'TWCILIY Index 12 month absolute delta', 'TWCILIY Index 2 mo avg',\n",
       "       'TWCILIY Index 3 mo avg', 'TWCILIY Index 6 mo avg',\n",
       "       'TWCILIY Index 6 mo avg - 3 mo avg',\n",
       "       'Number of States with positive leading index',\n",
       "       'Number of States with positive leading index 1 month absolute delta',\n",
       "       'Number of States with positive leading index 1 month % change',\n",
       "       'Number of States with positive leading index 2 month absolute delta',\n",
       "       'Number of States with positive leading index 2 month % change',\n",
       "       'Number of States with positive leading index 3 month absolute delta',\n",
       "       'Number of States with positive leading index 3 month % change',\n",
       "       'Number of States with positive leading index 12 month absolute delta',\n",
       "       'Number of States with positive leading index 12 month % change',\n",
       "       'Number of States with positive leading index 2 mo avg',\n",
       "       'Number of States with positive leading index 3 mo avg',\n",
       "       'Number of States with positive leading index 6 mo avg',\n",
       "       'Number of States with positive leading index 12 mo avg',\n",
       "       'Number of States with positive leading index 6 mo avg - 3 mo avg',\n",
       "       'Number of States with positive leading index 3 year Z-score',\n",
       "       'Number of States with positive leading index 5 year Z-score',\n",
       "       'US HY Pct of CCC Issuers Accessing Primary Mkt (3mo)',\n",
       "       'US HY Pct of CCC Issuers Accessing Primary Mkt (3mo) 1 month absolute delta',\n",
       "       'US HY Pct of CCC Issuers Accessing Primary Mkt (3mo) 2 month absolute delta',\n",
       "       'US HY Pct of CCC Issuers Accessing Primary Mkt (3mo) 3 month absolute delta',\n",
       "       'US HY Pct of CCC Issuers Accessing Primary Mkt (3mo) 12 month absolute delta',\n",
       "       'US HY Pct of CCC Issuers Accessing Primary Mkt (3mo) 2 mo avg',\n",
       "       'US HY Pct of CCC Issuers Accessing Primary Mkt (3mo) 3 mo avg',\n",
       "       'US HY Pct of CCC Issuers Accessing Primary Mkt (3mo) 6 mo avg',\n",
       "       'US HY Pct of CCC Issuers Accessing Primary Mkt (3mo) 6 mo avg - 3 mo avg',\n",
       "       'US HY Pct of CCC Issuers 3mo default rate',\n",
       "       'US HY Pct of CCC Issuers 3mo default rate 1 month absolute delta',\n",
       "       'US HY Pct of CCC Issuers 3mo default rate 2 month absolute delta',\n",
       "       'US HY Pct of CCC Issuers 3mo default rate 3 month absolute delta',\n",
       "       'US HY Pct of CCC Issuers 3mo default rate 12 month absolute delta',\n",
       "       'US HY Pct of CCC Issuers 3mo default rate 2 mo avg',\n",
       "       'US HY Pct of CCC Issuers 3mo default rate 3 mo avg',\n",
       "       'US HY Pct of CCC Issuers 3mo default rate 6 mo avg',\n",
       "       'US HY Pct of CCC Issuers 3mo default rate 6 mo avg - 3 mo avg',\n",
       "       'US HY Pct of CCC Issuers 12mo default rate',\n",
       "       'US HY Pct of CCC Issuers 12mo default rate 1 month absolute delta',\n",
       "       'US HY Pct of CCC Issuers 12mo default rate 2 month absolute delta',\n",
       "       'US HY Pct of CCC Issuers 12mo default rate 3 month absolute delta',\n",
       "       'US HY Pct of CCC Issuers 12mo default rate 12 month absolute delta',\n",
       "       'US HY Pct of CCC Issuers 12mo default rate 2 mo avg',\n",
       "       'US HY Pct of CCC Issuers 12mo default rate 3 mo avg',\n",
       "       'US HY Pct of CCC Issuers 12mo default rate 6 mo avg',\n",
       "       'US HY Pct of CCC Issuers 12mo default rate 6 mo avg - 3 mo avg',\n",
       "       'SLDETIGT Index', 'SLDETIGT Index 1 month absolute delta',\n",
       "       'SLDETIGT Index 2 month absolute delta',\n",
       "       'SLDETIGT Index 3 month absolute delta',\n",
       "       'SLDETIGT Index 12 month absolute delta',\n",
       "       'SLDETIGT Index 2 mo avg', 'SLDETIGT Index 3 mo avg',\n",
       "       'SLDETIGT Index 6 mo avg', 'SLDETIGT Index 6 mo avg - 3 mo avg',\n",
       "       'US HY 12m Default Rate <quarterly pushed forward>',\n",
       "       'US HY 12m Default Rate <quarterly pushed forward> 1 month absolute delta',\n",
       "       'US HY 12m Default Rate <quarterly pushed forward> 2 month absolute delta',\n",
       "       'US HY 12m Default Rate <quarterly pushed forward> 3 month absolute delta',\n",
       "       'US HY 12m Default Rate <quarterly pushed forward> 12 month absolute delta',\n",
       "       'US HY 12m Default Rate <quarterly pushed forward> 2 mo avg',\n",
       "       'US HY 12m Default Rate <quarterly pushed forward> 3 mo avg',\n",
       "       'US HY 12m Default Rate <quarterly pushed forward> 6 mo avg',\n",
       "       'US HY 12m Default Rate <quarterly pushed forward> 6 mo avg - 3 mo avg',\n",
       "       'Global DM HY Distressed Ratio',\n",
       "       'Global DM HY Distressed Ratio 1 month absolute delta',\n",
       "       'Global DM HY Distressed Ratio 2 month absolute delta',\n",
       "       'Global DM HY Distressed Ratio 3 month absolute delta',\n",
       "       'Global DM HY Distressed Ratio 12 month absolute delta',\n",
       "       'Global DM HY Distressed Ratio 2 mo avg',\n",
       "       'Global DM HY Distressed Ratio 3 mo avg',\n",
       "       'Global DM HY Distressed Ratio 6 mo avg',\n",
       "       'Global DM HY Distressed Ratio 6 mo avg - 3 mo avg', 'US HY BBs',\n",
       "       'US HY BBs 1 month absolute delta', 'US HY BBs 1 month % change',\n",
       "       'US HY BBs 2 month absolute delta', 'US HY BBs 2 month % change',\n",
       "       'US HY BBs 3 month absolute delta', 'US HY BBs 3 month % change',\n",
       "       'US HY BBs 12 month absolute delta', 'US HY BBs 12 month % change',\n",
       "       'US HY BBs 2 mo avg', 'US HY BBs 3 mo avg', 'US HY BBs 6 mo avg',\n",
       "       'US HY BBs 12 mo avg', 'US HY BBs 6 mo avg - 3 mo avg',\n",
       "       'US HY BBs 3 year Z-score', 'US HY BBs 5 year Z-score', 'US HY Bs',\n",
       "       'US HY Bs 1 month absolute delta', 'US HY Bs 1 month % change',\n",
       "       'US HY Bs 2 month absolute delta', 'US HY Bs 2 month % change',\n",
       "       'US HY Bs 3 month absolute delta', 'US HY Bs 3 month % change',\n",
       "       'US HY Bs 12 month absolute delta', 'US HY Bs 12 month % change',\n",
       "       'US HY Bs 2 mo avg', 'US HY Bs 3 mo avg', 'US HY Bs 6 mo avg',\n",
       "       'US HY Bs 12 mo avg', 'US HY Bs 6 mo avg - 3 mo avg',\n",
       "       'US HY Bs 3 year Z-score', 'US HY Bs 5 year Z-score', 'US HY CCCs',\n",
       "       'US HY CCCs 1 month absolute delta', 'US HY CCCs 1 month % change',\n",
       "       'US HY CCCs 2 month absolute delta', 'US HY CCCs 2 month % change',\n",
       "       'US HY CCCs 3 month absolute delta', 'US HY CCCs 3 month % change',\n",
       "       'US HY CCCs 12 month absolute delta',\n",
       "       'US HY CCCs 12 month % change', 'US HY CCCs 2 mo avg',\n",
       "       'US HY CCCs 3 mo avg', 'US HY CCCs 6 mo avg',\n",
       "       'US HY CCCs 12 mo avg', 'US HY CCCs 6 mo avg - 3 mo avg',\n",
       "       'US HY CCCs 3 year Z-score', 'US HY CCCs 5 year Z-score',\n",
       "       'US HY CCCs / US HY BBs',\n",
       "       'US HY CCCs / US HY BBs 1 month absolute delta',\n",
       "       'US HY CCCs / US HY BBs 1 month % change',\n",
       "       'US HY CCCs / US HY BBs 2 month absolute delta',\n",
       "       'US HY CCCs / US HY BBs 2 month % change',\n",
       "       'US HY CCCs / US HY BBs 3 month absolute delta',\n",
       "       'US HY CCCs / US HY BBs 3 month % change',\n",
       "       'US HY CCCs / US HY BBs 12 month absolute delta',\n",
       "       'US HY CCCs / US HY BBs 12 month % change',\n",
       "       'US HY CCCs / US HY BBs 2 mo avg',\n",
       "       'US HY CCCs / US HY BBs 3 mo avg',\n",
       "       'US HY CCCs / US HY BBs 6 mo avg',\n",
       "       'US HY CCCs / US HY BBs 12 mo avg',\n",
       "       'US HY CCCs / US HY BBs 6 mo avg - 3 mo avg',\n",
       "       'US HY CCCs / US HY BBs 3 year Z-score',\n",
       "       'US HY CCCs / US HY BBs 5 year Z-score', 'SPX 500 Price Return',\n",
       "       'Eurostoxx 600', 'MSCI Japan', 'MSCI World', 'Russell 2000',\n",
       "       'Crude Oil Total Return', 'CRB Metals', 'Gold Price',\n",
       "       'S&P GSCI Total Return Index', 'UST 7-10yr', 'German 7-10yr',\n",
       "       'US IG Corps', 'US HY Corp', 'US Mortgages'], dtype=object)"
      ]
     },
     "execution_count": 17,
     "metadata": {},
     "output_type": "execute_result"
    }
   ],
   "source": [
    "get_X_y(merge_1month_X_df2,merge_1month_Y_df2,merge_1month_Y_df2.columns[0])[0].columns.values"
   ]
  },
  {
   "cell_type": "code",
   "execution_count": 18,
   "metadata": {},
   "outputs": [],
   "source": [
    "def train_XGBs(X,Y,split1,split2,is_use_other_y=True,\n",
    "               max_depth=3,learning_rate=0.1, n_estimators=300,\n",
    "               verbosity=1, objective='binary:logistic',\n",
    "               booster='gbtree', tree_method='auto', n_jobs=1, \n",
    "               gpu_id=-1, gamma=0, min_child_weight=1, \n",
    "               max_delta_step=0, subsample=1, colsample_bytree=1, \n",
    "               colsample_bylevel=1, colsample_bynode=1, reg_alpha=0, \n",
    "               reg_lambda=1, scale_pos_weight=1, base_score=0.5, \n",
    "               random_state=0, missing=None):\n",
    "    import re\n",
    "    regex = re.compile(r\"\\[|\\]|<\", re.IGNORECASE)\n",
    "    X.columns = [regex.sub(\"_\", col) if any(x in str(col) for x in set(('[', ']', '<'))) else col for col in X.columns.values]\n",
    "    Models = {}\n",
    "    dev_yhats = {}\n",
    "    scores = {}\n",
    "    Model_features = {}\n",
    "    prob_scores = {}\n",
    "    AUROC = {}\n",
    "    AUPR = {}\n",
    "    FPs = {}\n",
    "    X_old, Y_old = X, Y\n",
    "    for col in Y.columns:\n",
    "        X, Y = X_old, Y_old\n",
    "        X,y = get_X_y(X,Y,col,is_use_other_y)\n",
    "        train_X = X[:split1]\n",
    "        train_X = train_X.fillna(train_X.mean())\n",
    "        dev_X = X[split1:split2]\n",
    "        dev_X = dev_X.fillna(X[:split2].mean())\n",
    "        test_X = X[split2:]\n",
    "        test_X = test_X.fillna(X.mean())\n",
    "        train_y = y[:split1]\n",
    "        dev_y = y[split1:split2]\n",
    "        test_y = y[split2:]\n",
    "        features = filter_by_comoment(train_X,train_y,w=1,isCentralized = False)[0]\n",
    "        train_X = train_X[features]\n",
    "        dev_X = dev_X[features]\n",
    "        test_X = test_X[features]\n",
    "        XGB = xgb.XGBClassifier(learning_rate=0.03, n_estimators=300, n_jobs=-1, silent=False)\n",
    "        XGB.fit(train_X, train_y) \n",
    "        Models[col] = XGB\n",
    "        dev_yhats[col] = XGB.predict(dev_X)\n",
    "        scores[col] = XGB.score(dev_X, dev_y)\n",
    "        Model_features[col] = features\n",
    "        prob_scores[col] = XGB.predict_proba(dev_X)[:,1]\n",
    "        AUROC[col] = roc_auc_score(dev_y, prob_scores[col])\n",
    "        AUPR[col] = average_precision_score(dev_y, prob_scores[col])\n",
    "        tn, fp, fn, tp = confusion_matrix(dev_y, dev_yhats[col]).ravel()\n",
    "        FPs[col] = fp\n",
    "    return Models,dev_yhats,scores,Model_features, prob_scores, AUROC, AUPR, FPs"
   ]
  },
  {
   "cell_type": "markdown",
   "metadata": {},
   "source": [
    "### version of droppingthe first 127 obs"
   ]
  },
  {
   "cell_type": "code",
   "execution_count": 19,
   "metadata": {},
   "outputs": [],
   "source": [
    "split11 = 200\n",
    "split12 = 228"
   ]
  },
  {
   "cell_type": "code",
   "execution_count": 20,
   "metadata": {
    "collapsed": true
   },
   "outputs": [
    {
     "name": "stderr",
     "output_type": "stream",
     "text": [
      "D:\\Software\\Anaconda3\\lib\\site-packages\\sklearn\\preprocessing\\label.py:219: DataConversionWarning: A column-vector y was passed when a 1d array was expected. Please change the shape of y to (n_samples, ), for example using ravel().\n",
      "  y = column_or_1d(y, warn=True)\n",
      "D:\\Software\\Anaconda3\\lib\\site-packages\\sklearn\\preprocessing\\label.py:252: DataConversionWarning: A column-vector y was passed when a 1d array was expected. Please change the shape of y to (n_samples, ), for example using ravel().\n",
      "  y = column_or_1d(y, warn=True)\n",
      "D:\\Software\\Anaconda3\\lib\\site-packages\\sklearn\\preprocessing\\label.py:219: DataConversionWarning: A column-vector y was passed when a 1d array was expected. Please change the shape of y to (n_samples, ), for example using ravel().\n",
      "  y = column_or_1d(y, warn=True)\n",
      "D:\\Software\\Anaconda3\\lib\\site-packages\\sklearn\\preprocessing\\label.py:252: DataConversionWarning: A column-vector y was passed when a 1d array was expected. Please change the shape of y to (n_samples, ), for example using ravel().\n",
      "  y = column_or_1d(y, warn=True)\n",
      "D:\\Software\\Anaconda3\\lib\\site-packages\\sklearn\\preprocessing\\label.py:219: DataConversionWarning: A column-vector y was passed when a 1d array was expected. Please change the shape of y to (n_samples, ), for example using ravel().\n",
      "  y = column_or_1d(y, warn=True)\n",
      "D:\\Software\\Anaconda3\\lib\\site-packages\\sklearn\\preprocessing\\label.py:252: DataConversionWarning: A column-vector y was passed when a 1d array was expected. Please change the shape of y to (n_samples, ), for example using ravel().\n",
      "  y = column_or_1d(y, warn=True)\n",
      "D:\\Software\\Anaconda3\\lib\\site-packages\\sklearn\\preprocessing\\label.py:219: DataConversionWarning: A column-vector y was passed when a 1d array was expected. Please change the shape of y to (n_samples, ), for example using ravel().\n",
      "  y = column_or_1d(y, warn=True)\n",
      "D:\\Software\\Anaconda3\\lib\\site-packages\\sklearn\\preprocessing\\label.py:252: DataConversionWarning: A column-vector y was passed when a 1d array was expected. Please change the shape of y to (n_samples, ), for example using ravel().\n",
      "  y = column_or_1d(y, warn=True)\n",
      "D:\\Software\\Anaconda3\\lib\\site-packages\\sklearn\\preprocessing\\label.py:219: DataConversionWarning: A column-vector y was passed when a 1d array was expected. Please change the shape of y to (n_samples, ), for example using ravel().\n",
      "  y = column_or_1d(y, warn=True)\n",
      "D:\\Software\\Anaconda3\\lib\\site-packages\\sklearn\\preprocessing\\label.py:252: DataConversionWarning: A column-vector y was passed when a 1d array was expected. Please change the shape of y to (n_samples, ), for example using ravel().\n",
      "  y = column_or_1d(y, warn=True)\n",
      "D:\\Software\\Anaconda3\\lib\\site-packages\\sklearn\\preprocessing\\label.py:219: DataConversionWarning: A column-vector y was passed when a 1d array was expected. Please change the shape of y to (n_samples, ), for example using ravel().\n",
      "  y = column_or_1d(y, warn=True)\n",
      "D:\\Software\\Anaconda3\\lib\\site-packages\\sklearn\\preprocessing\\label.py:252: DataConversionWarning: A column-vector y was passed when a 1d array was expected. Please change the shape of y to (n_samples, ), for example using ravel().\n",
      "  y = column_or_1d(y, warn=True)\n",
      "D:\\Software\\Anaconda3\\lib\\site-packages\\sklearn\\preprocessing\\label.py:219: DataConversionWarning: A column-vector y was passed when a 1d array was expected. Please change the shape of y to (n_samples, ), for example using ravel().\n",
      "  y = column_or_1d(y, warn=True)\n",
      "D:\\Software\\Anaconda3\\lib\\site-packages\\sklearn\\preprocessing\\label.py:252: DataConversionWarning: A column-vector y was passed when a 1d array was expected. Please change the shape of y to (n_samples, ), for example using ravel().\n",
      "  y = column_or_1d(y, warn=True)\n",
      "D:\\Software\\Anaconda3\\lib\\site-packages\\sklearn\\preprocessing\\label.py:219: DataConversionWarning: A column-vector y was passed when a 1d array was expected. Please change the shape of y to (n_samples, ), for example using ravel().\n",
      "  y = column_or_1d(y, warn=True)\n",
      "D:\\Software\\Anaconda3\\lib\\site-packages\\sklearn\\preprocessing\\label.py:252: DataConversionWarning: A column-vector y was passed when a 1d array was expected. Please change the shape of y to (n_samples, ), for example using ravel().\n",
      "  y = column_or_1d(y, warn=True)\n",
      "D:\\Software\\Anaconda3\\lib\\site-packages\\sklearn\\preprocessing\\label.py:219: DataConversionWarning: A column-vector y was passed when a 1d array was expected. Please change the shape of y to (n_samples, ), for example using ravel().\n",
      "  y = column_or_1d(y, warn=True)\n",
      "D:\\Software\\Anaconda3\\lib\\site-packages\\sklearn\\preprocessing\\label.py:252: DataConversionWarning: A column-vector y was passed when a 1d array was expected. Please change the shape of y to (n_samples, ), for example using ravel().\n",
      "  y = column_or_1d(y, warn=True)\n",
      "D:\\Software\\Anaconda3\\lib\\site-packages\\sklearn\\preprocessing\\label.py:219: DataConversionWarning: A column-vector y was passed when a 1d array was expected. Please change the shape of y to (n_samples, ), for example using ravel().\n",
      "  y = column_or_1d(y, warn=True)\n",
      "D:\\Software\\Anaconda3\\lib\\site-packages\\sklearn\\preprocessing\\label.py:252: DataConversionWarning: A column-vector y was passed when a 1d array was expected. Please change the shape of y to (n_samples, ), for example using ravel().\n",
      "  y = column_or_1d(y, warn=True)\n",
      "D:\\Software\\Anaconda3\\lib\\site-packages\\sklearn\\preprocessing\\label.py:219: DataConversionWarning: A column-vector y was passed when a 1d array was expected. Please change the shape of y to (n_samples, ), for example using ravel().\n",
      "  y = column_or_1d(y, warn=True)\n",
      "D:\\Software\\Anaconda3\\lib\\site-packages\\sklearn\\preprocessing\\label.py:252: DataConversionWarning: A column-vector y was passed when a 1d array was expected. Please change the shape of y to (n_samples, ), for example using ravel().\n",
      "  y = column_or_1d(y, warn=True)\n",
      "D:\\Software\\Anaconda3\\lib\\site-packages\\sklearn\\preprocessing\\label.py:219: DataConversionWarning: A column-vector y was passed when a 1d array was expected. Please change the shape of y to (n_samples, ), for example using ravel().\n",
      "  y = column_or_1d(y, warn=True)\n",
      "D:\\Software\\Anaconda3\\lib\\site-packages\\sklearn\\preprocessing\\label.py:252: DataConversionWarning: A column-vector y was passed when a 1d array was expected. Please change the shape of y to (n_samples, ), for example using ravel().\n",
      "  y = column_or_1d(y, warn=True)\n",
      "D:\\Software\\Anaconda3\\lib\\site-packages\\sklearn\\preprocessing\\label.py:219: DataConversionWarning: A column-vector y was passed when a 1d array was expected. Please change the shape of y to (n_samples, ), for example using ravel().\n",
      "  y = column_or_1d(y, warn=True)\n",
      "D:\\Software\\Anaconda3\\lib\\site-packages\\sklearn\\preprocessing\\label.py:252: DataConversionWarning: A column-vector y was passed when a 1d array was expected. Please change the shape of y to (n_samples, ), for example using ravel().\n",
      "  y = column_or_1d(y, warn=True)\n",
      "D:\\Software\\Anaconda3\\lib\\site-packages\\sklearn\\preprocessing\\label.py:219: DataConversionWarning: A column-vector y was passed when a 1d array was expected. Please change the shape of y to (n_samples, ), for example using ravel().\n",
      "  y = column_or_1d(y, warn=True)\n",
      "D:\\Software\\Anaconda3\\lib\\site-packages\\sklearn\\preprocessing\\label.py:252: DataConversionWarning: A column-vector y was passed when a 1d array was expected. Please change the shape of y to (n_samples, ), for example using ravel().\n",
      "  y = column_or_1d(y, warn=True)\n",
      "D:\\Software\\Anaconda3\\lib\\site-packages\\sklearn\\preprocessing\\label.py:219: DataConversionWarning: A column-vector y was passed when a 1d array was expected. Please change the shape of y to (n_samples, ), for example using ravel().\n",
      "  y = column_or_1d(y, warn=True)\n",
      "D:\\Software\\Anaconda3\\lib\\site-packages\\sklearn\\preprocessing\\label.py:252: DataConversionWarning: A column-vector y was passed when a 1d array was expected. Please change the shape of y to (n_samples, ), for example using ravel().\n",
      "  y = column_or_1d(y, warn=True)\n"
     ]
    }
   ],
   "source": [
    "Models,dev_yhats,scores,Model_features, prob_scores, AUROC, AUPR, FPs = train_XGBs(merge_1month_X_df1,merge_1month_Y_df1,split11,split12,is_use_other_y=True)"
   ]
  },
  {
   "cell_type": "code",
   "execution_count": 21,
   "metadata": {},
   "outputs": [
    {
     "name": "stdout",
     "output_type": "stream",
     "text": [
      "the out-of-sample scores for each model: \n"
     ]
    },
    {
     "data": {
      "text/plain": [
       "{'MSCI EM': 0.6428571428571429,\n",
       " 'SPX 500 Price Return': 0.5714285714285714,\n",
       " 'Eurostoxx 600': 0.6428571428571429,\n",
       " 'MSCI Japan': 0.5714285714285714,\n",
       " 'MSCI World': 0.7142857142857143,\n",
       " 'Russell 2000': 0.42857142857142855,\n",
       " 'Crude Oil Total Return': 0.4642857142857143,\n",
       " 'CRB Metals': 0.4642857142857143,\n",
       " 'Gold Price': 0.6071428571428571,\n",
       " 'S&P GSCI Total Return Index': 0.5,\n",
       " 'UST 7-10yr': 0.6785714285714286,\n",
       " 'German 7-10yr': 0.4642857142857143,\n",
       " 'US IG Corps': 0.4642857142857143,\n",
       " 'US HY Corp': 0.42857142857142855,\n",
       " 'US Mortgages': 0.5357142857142857}"
      ]
     },
     "execution_count": 21,
     "metadata": {},
     "output_type": "execute_result"
    }
   ],
   "source": [
    "print(\"the out-of-sample scores for each model: \")\n",
    "scores"
   ]
  },
  {
   "cell_type": "code",
   "execution_count": 22,
   "metadata": {},
   "outputs": [
    {
     "name": "stdout",
     "output_type": "stream",
     "text": [
      "the ROC for each model: \n"
     ]
    },
    {
     "data": {
      "text/plain": [
       "{'MSCI EM': 0.6256410256410256,\n",
       " 'SPX 500 Price Return': 0.5885416666666666,\n",
       " 'Eurostoxx 600': 0.578125,\n",
       " 'MSCI Japan': 0.5555555555555556,\n",
       " 'MSCI World': 0.6042780748663102,\n",
       " 'Russell 2000': 0.5294117647058824,\n",
       " 'Crude Oil Total Return': 0.5347593582887701,\n",
       " 'CRB Metals': 0.5260416666666667,\n",
       " 'Gold Price': 0.6102564102564103,\n",
       " 'S&P GSCI Total Return Index': 0.40625,\n",
       " 'UST 7-10yr': 0.7540106951871657,\n",
       " 'German 7-10yr': 0.4769230769230769,\n",
       " 'US IG Corps': 0.5487179487179487,\n",
       " 'US HY Corp': 0.5204081632653061,\n",
       " 'US Mortgages': 0.59375}"
      ]
     },
     "execution_count": 22,
     "metadata": {},
     "output_type": "execute_result"
    }
   ],
   "source": [
    "print(\"the ROC for each model: \")\n",
    "AUROC"
   ]
  },
  {
   "cell_type": "code",
   "execution_count": 23,
   "metadata": {},
   "outputs": [
    {
     "name": "stdout",
     "output_type": "stream",
     "text": [
      "the precision score for each model: \n"
     ]
    },
    {
     "data": {
      "text/plain": [
       "{'MSCI EM': 0.726998286122327,\n",
       " 'SPX 500 Price Return': 0.6465632512231776,\n",
       " 'Eurostoxx 600': 0.6335126715919049,\n",
       " 'MSCI Japan': 0.7819864454837758,\n",
       " 'MSCI World': 0.6356670690580726,\n",
       " 'Russell 2000': 0.6300999966217358,\n",
       " 'Crude Oil Total Return': 0.5512118338402923,\n",
       " 'CRB Metals': 0.4994974038166258,\n",
       " 'Gold Price': 0.6984947862594921,\n",
       " 'S&P GSCI Total Return Index': 0.4168619676295115,\n",
       " 'UST 7-10yr': 0.7540573461626093,\n",
       " 'German 7-10yr': 0.5249787968969555,\n",
       " 'US IG Corps': 0.6336821463137252,\n",
       " 'US HY Corp': 0.6390554626954449,\n",
       " 'US Mortgages': 0.4929031050312515}"
      ]
     },
     "execution_count": 23,
     "metadata": {},
     "output_type": "execute_result"
    }
   ],
   "source": [
    "print(\"the precision score for each model: \")\n",
    "AUPR"
   ]
  },
  {
   "cell_type": "code",
   "execution_count": 24,
   "metadata": {},
   "outputs": [
    {
     "name": "stdout",
     "output_type": "stream",
     "text": [
      "the FP for each model: \n"
     ]
    },
    {
     "data": {
      "text/plain": [
       "{'MSCI EM': 8,\n",
       " 'SPX 500 Price Return': 11,\n",
       " 'Eurostoxx 600': 7,\n",
       " 'MSCI Japan': 4,\n",
       " 'MSCI World': 4,\n",
       " 'Russell 2000': 3,\n",
       " 'Crude Oil Total Return': 8,\n",
       " 'CRB Metals': 10,\n",
       " 'Gold Price': 5,\n",
       " 'S&P GSCI Total Return Index': 6,\n",
       " 'UST 7-10yr': 6,\n",
       " 'German 7-10yr': 8,\n",
       " 'US IG Corps': 3,\n",
       " 'US HY Corp': 8,\n",
       " 'US Mortgages': 8}"
      ]
     },
     "execution_count": 24,
     "metadata": {},
     "output_type": "execute_result"
    }
   ],
   "source": [
    "print(\"the FP for each model: \")\n",
    "FPs"
   ]
  },
  {
   "cell_type": "code",
   "execution_count": 25,
   "metadata": {
    "collapsed": true
   },
   "outputs": [
    {
     "name": "stderr",
     "output_type": "stream",
     "text": [
      "D:\\Software\\Anaconda3\\lib\\site-packages\\sklearn\\preprocessing\\label.py:219: DataConversionWarning: A column-vector y was passed when a 1d array was expected. Please change the shape of y to (n_samples, ), for example using ravel().\n",
      "  y = column_or_1d(y, warn=True)\n",
      "D:\\Software\\Anaconda3\\lib\\site-packages\\sklearn\\preprocessing\\label.py:252: DataConversionWarning: A column-vector y was passed when a 1d array was expected. Please change the shape of y to (n_samples, ), for example using ravel().\n",
      "  y = column_or_1d(y, warn=True)\n",
      "D:\\Software\\Anaconda3\\lib\\site-packages\\sklearn\\preprocessing\\label.py:219: DataConversionWarning: A column-vector y was passed when a 1d array was expected. Please change the shape of y to (n_samples, ), for example using ravel().\n",
      "  y = column_or_1d(y, warn=True)\n",
      "D:\\Software\\Anaconda3\\lib\\site-packages\\sklearn\\preprocessing\\label.py:252: DataConversionWarning: A column-vector y was passed when a 1d array was expected. Please change the shape of y to (n_samples, ), for example using ravel().\n",
      "  y = column_or_1d(y, warn=True)\n",
      "D:\\Software\\Anaconda3\\lib\\site-packages\\sklearn\\preprocessing\\label.py:219: DataConversionWarning: A column-vector y was passed when a 1d array was expected. Please change the shape of y to (n_samples, ), for example using ravel().\n",
      "  y = column_or_1d(y, warn=True)\n",
      "D:\\Software\\Anaconda3\\lib\\site-packages\\sklearn\\preprocessing\\label.py:252: DataConversionWarning: A column-vector y was passed when a 1d array was expected. Please change the shape of y to (n_samples, ), for example using ravel().\n",
      "  y = column_or_1d(y, warn=True)\n",
      "D:\\Software\\Anaconda3\\lib\\site-packages\\sklearn\\preprocessing\\label.py:219: DataConversionWarning: A column-vector y was passed when a 1d array was expected. Please change the shape of y to (n_samples, ), for example using ravel().\n",
      "  y = column_or_1d(y, warn=True)\n",
      "D:\\Software\\Anaconda3\\lib\\site-packages\\sklearn\\preprocessing\\label.py:252: DataConversionWarning: A column-vector y was passed when a 1d array was expected. Please change the shape of y to (n_samples, ), for example using ravel().\n",
      "  y = column_or_1d(y, warn=True)\n",
      "D:\\Software\\Anaconda3\\lib\\site-packages\\sklearn\\preprocessing\\label.py:219: DataConversionWarning: A column-vector y was passed when a 1d array was expected. Please change the shape of y to (n_samples, ), for example using ravel().\n",
      "  y = column_or_1d(y, warn=True)\n",
      "D:\\Software\\Anaconda3\\lib\\site-packages\\sklearn\\preprocessing\\label.py:252: DataConversionWarning: A column-vector y was passed when a 1d array was expected. Please change the shape of y to (n_samples, ), for example using ravel().\n",
      "  y = column_or_1d(y, warn=True)\n",
      "D:\\Software\\Anaconda3\\lib\\site-packages\\sklearn\\preprocessing\\label.py:219: DataConversionWarning: A column-vector y was passed when a 1d array was expected. Please change the shape of y to (n_samples, ), for example using ravel().\n",
      "  y = column_or_1d(y, warn=True)\n",
      "D:\\Software\\Anaconda3\\lib\\site-packages\\sklearn\\preprocessing\\label.py:252: DataConversionWarning: A column-vector y was passed when a 1d array was expected. Please change the shape of y to (n_samples, ), for example using ravel().\n",
      "  y = column_or_1d(y, warn=True)\n",
      "D:\\Software\\Anaconda3\\lib\\site-packages\\sklearn\\preprocessing\\label.py:219: DataConversionWarning: A column-vector y was passed when a 1d array was expected. Please change the shape of y to (n_samples, ), for example using ravel().\n",
      "  y = column_or_1d(y, warn=True)\n",
      "D:\\Software\\Anaconda3\\lib\\site-packages\\sklearn\\preprocessing\\label.py:252: DataConversionWarning: A column-vector y was passed when a 1d array was expected. Please change the shape of y to (n_samples, ), for example using ravel().\n",
      "  y = column_or_1d(y, warn=True)\n",
      "D:\\Software\\Anaconda3\\lib\\site-packages\\sklearn\\preprocessing\\label.py:219: DataConversionWarning: A column-vector y was passed when a 1d array was expected. Please change the shape of y to (n_samples, ), for example using ravel().\n",
      "  y = column_or_1d(y, warn=True)\n",
      "D:\\Software\\Anaconda3\\lib\\site-packages\\sklearn\\preprocessing\\label.py:252: DataConversionWarning: A column-vector y was passed when a 1d array was expected. Please change the shape of y to (n_samples, ), for example using ravel().\n",
      "  y = column_or_1d(y, warn=True)\n",
      "D:\\Software\\Anaconda3\\lib\\site-packages\\sklearn\\preprocessing\\label.py:219: DataConversionWarning: A column-vector y was passed when a 1d array was expected. Please change the shape of y to (n_samples, ), for example using ravel().\n",
      "  y = column_or_1d(y, warn=True)\n",
      "D:\\Software\\Anaconda3\\lib\\site-packages\\sklearn\\preprocessing\\label.py:252: DataConversionWarning: A column-vector y was passed when a 1d array was expected. Please change the shape of y to (n_samples, ), for example using ravel().\n",
      "  y = column_or_1d(y, warn=True)\n",
      "D:\\Software\\Anaconda3\\lib\\site-packages\\sklearn\\preprocessing\\label.py:219: DataConversionWarning: A column-vector y was passed when a 1d array was expected. Please change the shape of y to (n_samples, ), for example using ravel().\n",
      "  y = column_or_1d(y, warn=True)\n",
      "D:\\Software\\Anaconda3\\lib\\site-packages\\sklearn\\preprocessing\\label.py:252: DataConversionWarning: A column-vector y was passed when a 1d array was expected. Please change the shape of y to (n_samples, ), for example using ravel().\n",
      "  y = column_or_1d(y, warn=True)\n",
      "D:\\Software\\Anaconda3\\lib\\site-packages\\sklearn\\preprocessing\\label.py:219: DataConversionWarning: A column-vector y was passed when a 1d array was expected. Please change the shape of y to (n_samples, ), for example using ravel().\n",
      "  y = column_or_1d(y, warn=True)\n",
      "D:\\Software\\Anaconda3\\lib\\site-packages\\sklearn\\preprocessing\\label.py:252: DataConversionWarning: A column-vector y was passed when a 1d array was expected. Please change the shape of y to (n_samples, ), for example using ravel().\n",
      "  y = column_or_1d(y, warn=True)\n",
      "D:\\Software\\Anaconda3\\lib\\site-packages\\sklearn\\preprocessing\\label.py:219: DataConversionWarning: A column-vector y was passed when a 1d array was expected. Please change the shape of y to (n_samples, ), for example using ravel().\n",
      "  y = column_or_1d(y, warn=True)\n",
      "D:\\Software\\Anaconda3\\lib\\site-packages\\sklearn\\preprocessing\\label.py:252: DataConversionWarning: A column-vector y was passed when a 1d array was expected. Please change the shape of y to (n_samples, ), for example using ravel().\n",
      "  y = column_or_1d(y, warn=True)\n",
      "D:\\Software\\Anaconda3\\lib\\site-packages\\sklearn\\preprocessing\\label.py:219: DataConversionWarning: A column-vector y was passed when a 1d array was expected. Please change the shape of y to (n_samples, ), for example using ravel().\n",
      "  y = column_or_1d(y, warn=True)\n",
      "D:\\Software\\Anaconda3\\lib\\site-packages\\sklearn\\preprocessing\\label.py:252: DataConversionWarning: A column-vector y was passed when a 1d array was expected. Please change the shape of y to (n_samples, ), for example using ravel().\n",
      "  y = column_or_1d(y, warn=True)\n",
      "D:\\Software\\Anaconda3\\lib\\site-packages\\sklearn\\preprocessing\\label.py:219: DataConversionWarning: A column-vector y was passed when a 1d array was expected. Please change the shape of y to (n_samples, ), for example using ravel().\n",
      "  y = column_or_1d(y, warn=True)\n",
      "D:\\Software\\Anaconda3\\lib\\site-packages\\sklearn\\preprocessing\\label.py:252: DataConversionWarning: A column-vector y was passed when a 1d array was expected. Please change the shape of y to (n_samples, ), for example using ravel().\n",
      "  y = column_or_1d(y, warn=True)\n",
      "D:\\Software\\Anaconda3\\lib\\site-packages\\sklearn\\preprocessing\\label.py:219: DataConversionWarning: A column-vector y was passed when a 1d array was expected. Please change the shape of y to (n_samples, ), for example using ravel().\n",
      "  y = column_or_1d(y, warn=True)\n",
      "D:\\Software\\Anaconda3\\lib\\site-packages\\sklearn\\preprocessing\\label.py:252: DataConversionWarning: A column-vector y was passed when a 1d array was expected. Please change the shape of y to (n_samples, ), for example using ravel().\n",
      "  y = column_or_1d(y, warn=True)\n"
     ]
    }
   ],
   "source": [
    "Models,dev_yhats,scores,Model_features, prob_scores, AUROC, AUPR, FPs = train_XGBs(merge_1month_X_df1,merge_1month_Y_df1,split11,split12,is_use_other_y=False)"
   ]
  },
  {
   "cell_type": "code",
   "execution_count": 26,
   "metadata": {},
   "outputs": [
    {
     "name": "stdout",
     "output_type": "stream",
     "text": [
      "the out-of-sample scores for each model: \n"
     ]
    },
    {
     "data": {
      "text/plain": [
       "{'MSCI EM': 0.5357142857142857,\n",
       " 'SPX 500 Price Return': 0.5714285714285714,\n",
       " 'Eurostoxx 600': 0.5357142857142857,\n",
       " 'MSCI Japan': 0.5714285714285714,\n",
       " 'MSCI World': 0.42857142857142855,\n",
       " 'Russell 2000': 0.5357142857142857,\n",
       " 'Crude Oil Total Return': 0.5357142857142857,\n",
       " 'CRB Metals': 0.5,\n",
       " 'Gold Price': 0.42857142857142855,\n",
       " 'S&P GSCI Total Return Index': 0.32142857142857145,\n",
       " 'UST 7-10yr': 0.5357142857142857,\n",
       " 'German 7-10yr': 0.5357142857142857,\n",
       " 'US IG Corps': 0.42857142857142855,\n",
       " 'US HY Corp': 0.4642857142857143,\n",
       " 'US Mortgages': 0.5714285714285714}"
      ]
     },
     "execution_count": 26,
     "metadata": {},
     "output_type": "execute_result"
    }
   ],
   "source": [
    "print(\"the out-of-sample scores for each model: \")\n",
    "scores"
   ]
  },
  {
   "cell_type": "code",
   "execution_count": 27,
   "metadata": {},
   "outputs": [
    {
     "name": "stdout",
     "output_type": "stream",
     "text": [
      "the ROC for each model: \n"
     ]
    },
    {
     "data": {
      "text/plain": [
       "{'MSCI EM': 0.5384615384615384,\n",
       " 'SPX 500 Price Return': 0.6197916666666667,\n",
       " 'Eurostoxx 600': 0.5572916666666667,\n",
       " 'MSCI Japan': 0.5444444444444445,\n",
       " 'MSCI World': 0.44919786096256686,\n",
       " 'Russell 2000': 0.4919786096256684,\n",
       " 'Crude Oil Total Return': 0.572192513368984,\n",
       " 'CRB Metals': 0.5364583333333333,\n",
       " 'Gold Price': 0.4923076923076922,\n",
       " 'S&P GSCI Total Return Index': 0.24479166666666669,\n",
       " 'UST 7-10yr': 0.5187165775401069,\n",
       " 'German 7-10yr': 0.4820512820512821,\n",
       " 'US IG Corps': 0.5692307692307692,\n",
       " 'US HY Corp': 0.4693877551020408,\n",
       " 'US Mortgages': 0.5833333333333334}"
      ]
     },
     "execution_count": 27,
     "metadata": {},
     "output_type": "execute_result"
    }
   ],
   "source": [
    "print(\"the ROC for each model: \")\n",
    "AUROC"
   ]
  },
  {
   "cell_type": "code",
   "execution_count": 28,
   "metadata": {},
   "outputs": [
    {
     "name": "stdout",
     "output_type": "stream",
     "text": [
      "the precision score for each model: \n"
     ]
    },
    {
     "data": {
      "text/plain": [
       "{'MSCI EM': 0.6707551843519,\n",
       " 'SPX 500 Price Return': 0.6815375660165714,\n",
       " 'Eurostoxx 600': 0.6795861494850466,\n",
       " 'MSCI Japan': 0.7718543748253894,\n",
       " 'MSCI World': 0.5935535300265531,\n",
       " 'Russell 2000': 0.5926783848701533,\n",
       " 'Crude Oil Total Return': 0.555649851962521,\n",
       " 'CRB Metals': 0.4988339535707957,\n",
       " 'Gold Price': 0.64207143533742,\n",
       " 'S&P GSCI Total Return Index': 0.32250322653163993,\n",
       " 'UST 7-10yr': 0.4999020595858541,\n",
       " 'German 7-10yr': 0.5391511236229907,\n",
       " 'US IG Corps': 0.6422883300274604,\n",
       " 'US HY Corp': 0.6006743381113129,\n",
       " 'US Mortgages': 0.49382903095717745}"
      ]
     },
     "execution_count": 28,
     "metadata": {},
     "output_type": "execute_result"
    }
   ],
   "source": [
    "print(\"the precision score for each model: \")\n",
    "AUPR"
   ]
  },
  {
   "cell_type": "code",
   "execution_count": 29,
   "metadata": {},
   "outputs": [
    {
     "name": "stdout",
     "output_type": "stream",
     "text": [
      "the FP for each model: \n"
     ]
    },
    {
     "data": {
      "text/plain": [
       "{'MSCI EM': 10,\n",
       " 'SPX 500 Price Return': 11,\n",
       " 'Eurostoxx 600': 8,\n",
       " 'MSCI Japan': 4,\n",
       " 'MSCI World': 6,\n",
       " 'Russell 2000': 5,\n",
       " 'Crude Oil Total Return': 7,\n",
       " 'CRB Metals': 9,\n",
       " 'Gold Price': 7,\n",
       " 'S&P GSCI Total Return Index': 8,\n",
       " 'UST 7-10yr': 8,\n",
       " 'German 7-10yr': 9,\n",
       " 'US IG Corps': 4,\n",
       " 'US HY Corp': 7,\n",
       " 'US Mortgages': 7}"
      ]
     },
     "execution_count": 29,
     "metadata": {},
     "output_type": "execute_result"
    }
   ],
   "source": [
    "print(\"the FP for each model: \")\n",
    "FPs"
   ]
  },
  {
   "cell_type": "markdown",
   "metadata": {},
   "source": [
    "### version of non-drop"
   ]
  },
  {
   "cell_type": "code",
   "execution_count": 30,
   "metadata": {},
   "outputs": [],
   "source": [
    "split21 = 300\n",
    "split22 = 350"
   ]
  },
  {
   "cell_type": "code",
   "execution_count": 31,
   "metadata": {
    "collapsed": true
   },
   "outputs": [
    {
     "name": "stderr",
     "output_type": "stream",
     "text": [
      "D:\\Software\\Anaconda3\\lib\\site-packages\\sklearn\\preprocessing\\label.py:219: DataConversionWarning: A column-vector y was passed when a 1d array was expected. Please change the shape of y to (n_samples, ), for example using ravel().\n",
      "  y = column_or_1d(y, warn=True)\n",
      "D:\\Software\\Anaconda3\\lib\\site-packages\\sklearn\\preprocessing\\label.py:252: DataConversionWarning: A column-vector y was passed when a 1d array was expected. Please change the shape of y to (n_samples, ), for example using ravel().\n",
      "  y = column_or_1d(y, warn=True)\n",
      "D:\\Software\\Anaconda3\\lib\\site-packages\\sklearn\\preprocessing\\label.py:219: DataConversionWarning: A column-vector y was passed when a 1d array was expected. Please change the shape of y to (n_samples, ), for example using ravel().\n",
      "  y = column_or_1d(y, warn=True)\n",
      "D:\\Software\\Anaconda3\\lib\\site-packages\\sklearn\\preprocessing\\label.py:252: DataConversionWarning: A column-vector y was passed when a 1d array was expected. Please change the shape of y to (n_samples, ), for example using ravel().\n",
      "  y = column_or_1d(y, warn=True)\n",
      "D:\\Software\\Anaconda3\\lib\\site-packages\\sklearn\\preprocessing\\label.py:219: DataConversionWarning: A column-vector y was passed when a 1d array was expected. Please change the shape of y to (n_samples, ), for example using ravel().\n",
      "  y = column_or_1d(y, warn=True)\n",
      "D:\\Software\\Anaconda3\\lib\\site-packages\\sklearn\\preprocessing\\label.py:252: DataConversionWarning: A column-vector y was passed when a 1d array was expected. Please change the shape of y to (n_samples, ), for example using ravel().\n",
      "  y = column_or_1d(y, warn=True)\n",
      "D:\\Software\\Anaconda3\\lib\\site-packages\\sklearn\\preprocessing\\label.py:219: DataConversionWarning: A column-vector y was passed when a 1d array was expected. Please change the shape of y to (n_samples, ), for example using ravel().\n",
      "  y = column_or_1d(y, warn=True)\n",
      "D:\\Software\\Anaconda3\\lib\\site-packages\\sklearn\\preprocessing\\label.py:252: DataConversionWarning: A column-vector y was passed when a 1d array was expected. Please change the shape of y to (n_samples, ), for example using ravel().\n",
      "  y = column_or_1d(y, warn=True)\n",
      "D:\\Software\\Anaconda3\\lib\\site-packages\\sklearn\\preprocessing\\label.py:219: DataConversionWarning: A column-vector y was passed when a 1d array was expected. Please change the shape of y to (n_samples, ), for example using ravel().\n",
      "  y = column_or_1d(y, warn=True)\n",
      "D:\\Software\\Anaconda3\\lib\\site-packages\\sklearn\\preprocessing\\label.py:252: DataConversionWarning: A column-vector y was passed when a 1d array was expected. Please change the shape of y to (n_samples, ), for example using ravel().\n",
      "  y = column_or_1d(y, warn=True)\n",
      "D:\\Software\\Anaconda3\\lib\\site-packages\\sklearn\\preprocessing\\label.py:219: DataConversionWarning: A column-vector y was passed when a 1d array was expected. Please change the shape of y to (n_samples, ), for example using ravel().\n",
      "  y = column_or_1d(y, warn=True)\n",
      "D:\\Software\\Anaconda3\\lib\\site-packages\\sklearn\\preprocessing\\label.py:252: DataConversionWarning: A column-vector y was passed when a 1d array was expected. Please change the shape of y to (n_samples, ), for example using ravel().\n",
      "  y = column_or_1d(y, warn=True)\n",
      "D:\\Software\\Anaconda3\\lib\\site-packages\\sklearn\\preprocessing\\label.py:219: DataConversionWarning: A column-vector y was passed when a 1d array was expected. Please change the shape of y to (n_samples, ), for example using ravel().\n",
      "  y = column_or_1d(y, warn=True)\n",
      "D:\\Software\\Anaconda3\\lib\\site-packages\\sklearn\\preprocessing\\label.py:252: DataConversionWarning: A column-vector y was passed when a 1d array was expected. Please change the shape of y to (n_samples, ), for example using ravel().\n",
      "  y = column_or_1d(y, warn=True)\n",
      "D:\\Software\\Anaconda3\\lib\\site-packages\\sklearn\\preprocessing\\label.py:219: DataConversionWarning: A column-vector y was passed when a 1d array was expected. Please change the shape of y to (n_samples, ), for example using ravel().\n",
      "  y = column_or_1d(y, warn=True)\n",
      "D:\\Software\\Anaconda3\\lib\\site-packages\\sklearn\\preprocessing\\label.py:252: DataConversionWarning: A column-vector y was passed when a 1d array was expected. Please change the shape of y to (n_samples, ), for example using ravel().\n",
      "  y = column_or_1d(y, warn=True)\n",
      "D:\\Software\\Anaconda3\\lib\\site-packages\\sklearn\\preprocessing\\label.py:219: DataConversionWarning: A column-vector y was passed when a 1d array was expected. Please change the shape of y to (n_samples, ), for example using ravel().\n",
      "  y = column_or_1d(y, warn=True)\n",
      "D:\\Software\\Anaconda3\\lib\\site-packages\\sklearn\\preprocessing\\label.py:252: DataConversionWarning: A column-vector y was passed when a 1d array was expected. Please change the shape of y to (n_samples, ), for example using ravel().\n",
      "  y = column_or_1d(y, warn=True)\n",
      "D:\\Software\\Anaconda3\\lib\\site-packages\\sklearn\\preprocessing\\label.py:219: DataConversionWarning: A column-vector y was passed when a 1d array was expected. Please change the shape of y to (n_samples, ), for example using ravel().\n",
      "  y = column_or_1d(y, warn=True)\n",
      "D:\\Software\\Anaconda3\\lib\\site-packages\\sklearn\\preprocessing\\label.py:252: DataConversionWarning: A column-vector y was passed when a 1d array was expected. Please change the shape of y to (n_samples, ), for example using ravel().\n",
      "  y = column_or_1d(y, warn=True)\n",
      "D:\\Software\\Anaconda3\\lib\\site-packages\\sklearn\\preprocessing\\label.py:219: DataConversionWarning: A column-vector y was passed when a 1d array was expected. Please change the shape of y to (n_samples, ), for example using ravel().\n",
      "  y = column_or_1d(y, warn=True)\n",
      "D:\\Software\\Anaconda3\\lib\\site-packages\\sklearn\\preprocessing\\label.py:252: DataConversionWarning: A column-vector y was passed when a 1d array was expected. Please change the shape of y to (n_samples, ), for example using ravel().\n",
      "  y = column_or_1d(y, warn=True)\n",
      "D:\\Software\\Anaconda3\\lib\\site-packages\\sklearn\\preprocessing\\label.py:219: DataConversionWarning: A column-vector y was passed when a 1d array was expected. Please change the shape of y to (n_samples, ), for example using ravel().\n",
      "  y = column_or_1d(y, warn=True)\n",
      "D:\\Software\\Anaconda3\\lib\\site-packages\\sklearn\\preprocessing\\label.py:252: DataConversionWarning: A column-vector y was passed when a 1d array was expected. Please change the shape of y to (n_samples, ), for example using ravel().\n",
      "  y = column_or_1d(y, warn=True)\n",
      "D:\\Software\\Anaconda3\\lib\\site-packages\\sklearn\\preprocessing\\label.py:219: DataConversionWarning: A column-vector y was passed when a 1d array was expected. Please change the shape of y to (n_samples, ), for example using ravel().\n",
      "  y = column_or_1d(y, warn=True)\n",
      "D:\\Software\\Anaconda3\\lib\\site-packages\\sklearn\\preprocessing\\label.py:252: DataConversionWarning: A column-vector y was passed when a 1d array was expected. Please change the shape of y to (n_samples, ), for example using ravel().\n",
      "  y = column_or_1d(y, warn=True)\n",
      "D:\\Software\\Anaconda3\\lib\\site-packages\\sklearn\\preprocessing\\label.py:219: DataConversionWarning: A column-vector y was passed when a 1d array was expected. Please change the shape of y to (n_samples, ), for example using ravel().\n",
      "  y = column_or_1d(y, warn=True)\n",
      "D:\\Software\\Anaconda3\\lib\\site-packages\\sklearn\\preprocessing\\label.py:252: DataConversionWarning: A column-vector y was passed when a 1d array was expected. Please change the shape of y to (n_samples, ), for example using ravel().\n",
      "  y = column_or_1d(y, warn=True)\n",
      "D:\\Software\\Anaconda3\\lib\\site-packages\\sklearn\\preprocessing\\label.py:219: DataConversionWarning: A column-vector y was passed when a 1d array was expected. Please change the shape of y to (n_samples, ), for example using ravel().\n",
      "  y = column_or_1d(y, warn=True)\n",
      "D:\\Software\\Anaconda3\\lib\\site-packages\\sklearn\\preprocessing\\label.py:252: DataConversionWarning: A column-vector y was passed when a 1d array was expected. Please change the shape of y to (n_samples, ), for example using ravel().\n",
      "  y = column_or_1d(y, warn=True)\n"
     ]
    }
   ],
   "source": [
    "Models,dev_yhats,scores,Model_features, prob_scores, AUROC, AUPR, FPs = train_XGBs(merge_1month_X_df2,merge_1month_Y_df2,split21,split22,is_use_other_y=True)"
   ]
  },
  {
   "cell_type": "code",
   "execution_count": 32,
   "metadata": {},
   "outputs": [
    {
     "name": "stdout",
     "output_type": "stream",
     "text": [
      "the out-of-sample scores for each model: \n"
     ]
    },
    {
     "data": {
      "text/plain": [
       "{'MSCI EM': 0.5,\n",
       " 'SPX 500 Price Return': 0.58,\n",
       " 'Eurostoxx 600': 0.68,\n",
       " 'MSCI Japan': 0.46,\n",
       " 'MSCI World': 0.54,\n",
       " 'Russell 2000': 0.5,\n",
       " 'Crude Oil Total Return': 0.46,\n",
       " 'CRB Metals': 0.46,\n",
       " 'Gold Price': 0.46,\n",
       " 'S&P GSCI Total Return Index': 0.54,\n",
       " 'UST 7-10yr': 0.58,\n",
       " 'German 7-10yr': 0.42,\n",
       " 'US IG Corps': 0.62,\n",
       " 'US HY Corp': 0.6,\n",
       " 'US Mortgages': 0.6}"
      ]
     },
     "execution_count": 32,
     "metadata": {},
     "output_type": "execute_result"
    }
   ],
   "source": [
    "print(\"the out-of-sample scores for each model: \")\n",
    "scores"
   ]
  },
  {
   "cell_type": "code",
   "execution_count": 33,
   "metadata": {},
   "outputs": [
    {
     "name": "stdout",
     "output_type": "stream",
     "text": [
      "the ROC for each model: \n"
     ]
    },
    {
     "data": {
      "text/plain": [
       "{'MSCI EM': 0.47916666666666663,\n",
       " 'SPX 500 Price Return': 0.5055147058823529,\n",
       " 'Eurostoxx 600': 0.6349745331069611,\n",
       " 'MSCI Japan': 0.45161290322580644,\n",
       " 'MSCI World': 0.5648604269293924,\n",
       " 'Russell 2000': 0.5059422750424448,\n",
       " 'Crude Oil Total Return': 0.37766830870279144,\n",
       " 'CRB Metals': 0.49275362318840576,\n",
       " 'Gold Price': 0.43842364532019706,\n",
       " 'S&P GSCI Total Return Index': 0.5487012987012987,\n",
       " 'UST 7-10yr': 0.4827586206896552,\n",
       " 'German 7-10yr': 0.4736842105263158,\n",
       " 'US IG Corps': 0.6208,\n",
       " 'US HY Corp': 0.5861513687600644,\n",
       " 'US Mortgages': 0.6223316912972086}"
      ]
     },
     "execution_count": 33,
     "metadata": {},
     "output_type": "execute_result"
    }
   ],
   "source": [
    "print(\"the ROC for each model: \")\n",
    "AUROC"
   ]
  },
  {
   "cell_type": "code",
   "execution_count": 34,
   "metadata": {},
   "outputs": [
    {
     "name": "stdout",
     "output_type": "stream",
     "text": [
      "the precision score for each model: \n"
     ]
    },
    {
     "data": {
      "text/plain": [
       "{'MSCI EM': 0.4894749977964607,\n",
       " 'SPX 500 Price Return': 0.7208939460820374,\n",
       " 'Eurostoxx 600': 0.725127130499805,\n",
       " 'MSCI Japan': 0.5756148240247856,\n",
       " 'MSCI World': 0.6800214524432102,\n",
       " 'Russell 2000': 0.6305372937490925,\n",
       " 'Crude Oil Total Return': 0.3552661732250966,\n",
       " 'CRB Metals': 0.48578555096650056,\n",
       " 'Gold Price': 0.37435731327726035,\n",
       " 'S&P GSCI Total Return Index': 0.4955714031101523,\n",
       " 'UST 7-10yr': 0.4555972538647104,\n",
       " 'German 7-10yr': 0.5979538271449045,\n",
       " 'US IG Corps': 0.6440618499022033,\n",
       " 'US HY Corp': 0.5975214462585576,\n",
       " 'US Mortgages': 0.6230423685728761}"
      ]
     },
     "execution_count": 34,
     "metadata": {},
     "output_type": "execute_result"
    }
   ],
   "source": [
    "print(\"the precision score for each model: \")\n",
    "AUPR"
   ]
  },
  {
   "cell_type": "code",
   "execution_count": 35,
   "metadata": {},
   "outputs": [
    {
     "name": "stdout",
     "output_type": "stream",
     "text": [
      "the FP for each model: \n"
     ]
    },
    {
     "data": {
      "text/plain": [
       "{'MSCI EM': 16,\n",
       " 'SPX 500 Price Return': 11,\n",
       " 'Eurostoxx 600': 10,\n",
       " 'MSCI Japan': 9,\n",
       " 'MSCI World': 12,\n",
       " 'Russell 2000': 13,\n",
       " 'Crude Oil Total Return': 23,\n",
       " 'CRB Metals': 14,\n",
       " 'Gold Price': 16,\n",
       " 'S&P GSCI Total Return Index': 13,\n",
       " 'UST 7-10yr': 4,\n",
       " 'German 7-10yr': 12,\n",
       " 'US IG Corps': 11,\n",
       " 'US HY Corp': 7,\n",
       " 'US Mortgages': 7}"
      ]
     },
     "execution_count": 35,
     "metadata": {},
     "output_type": "execute_result"
    }
   ],
   "source": [
    "print(\"the FP for each model: \")\n",
    "FPs"
   ]
  },
  {
   "cell_type": "code",
   "execution_count": 36,
   "metadata": {
    "collapsed": true
   },
   "outputs": [
    {
     "name": "stderr",
     "output_type": "stream",
     "text": [
      "D:\\Software\\Anaconda3\\lib\\site-packages\\sklearn\\preprocessing\\label.py:219: DataConversionWarning: A column-vector y was passed when a 1d array was expected. Please change the shape of y to (n_samples, ), for example using ravel().\n",
      "  y = column_or_1d(y, warn=True)\n",
      "D:\\Software\\Anaconda3\\lib\\site-packages\\sklearn\\preprocessing\\label.py:252: DataConversionWarning: A column-vector y was passed when a 1d array was expected. Please change the shape of y to (n_samples, ), for example using ravel().\n",
      "  y = column_or_1d(y, warn=True)\n",
      "D:\\Software\\Anaconda3\\lib\\site-packages\\sklearn\\preprocessing\\label.py:219: DataConversionWarning: A column-vector y was passed when a 1d array was expected. Please change the shape of y to (n_samples, ), for example using ravel().\n",
      "  y = column_or_1d(y, warn=True)\n",
      "D:\\Software\\Anaconda3\\lib\\site-packages\\sklearn\\preprocessing\\label.py:252: DataConversionWarning: A column-vector y was passed when a 1d array was expected. Please change the shape of y to (n_samples, ), for example using ravel().\n",
      "  y = column_or_1d(y, warn=True)\n",
      "D:\\Software\\Anaconda3\\lib\\site-packages\\sklearn\\preprocessing\\label.py:219: DataConversionWarning: A column-vector y was passed when a 1d array was expected. Please change the shape of y to (n_samples, ), for example using ravel().\n",
      "  y = column_or_1d(y, warn=True)\n",
      "D:\\Software\\Anaconda3\\lib\\site-packages\\sklearn\\preprocessing\\label.py:252: DataConversionWarning: A column-vector y was passed when a 1d array was expected. Please change the shape of y to (n_samples, ), for example using ravel().\n",
      "  y = column_or_1d(y, warn=True)\n",
      "D:\\Software\\Anaconda3\\lib\\site-packages\\sklearn\\preprocessing\\label.py:219: DataConversionWarning: A column-vector y was passed when a 1d array was expected. Please change the shape of y to (n_samples, ), for example using ravel().\n",
      "  y = column_or_1d(y, warn=True)\n",
      "D:\\Software\\Anaconda3\\lib\\site-packages\\sklearn\\preprocessing\\label.py:252: DataConversionWarning: A column-vector y was passed when a 1d array was expected. Please change the shape of y to (n_samples, ), for example using ravel().\n",
      "  y = column_or_1d(y, warn=True)\n",
      "D:\\Software\\Anaconda3\\lib\\site-packages\\sklearn\\preprocessing\\label.py:219: DataConversionWarning: A column-vector y was passed when a 1d array was expected. Please change the shape of y to (n_samples, ), for example using ravel().\n",
      "  y = column_or_1d(y, warn=True)\n",
      "D:\\Software\\Anaconda3\\lib\\site-packages\\sklearn\\preprocessing\\label.py:252: DataConversionWarning: A column-vector y was passed when a 1d array was expected. Please change the shape of y to (n_samples, ), for example using ravel().\n",
      "  y = column_or_1d(y, warn=True)\n",
      "D:\\Software\\Anaconda3\\lib\\site-packages\\sklearn\\preprocessing\\label.py:219: DataConversionWarning: A column-vector y was passed when a 1d array was expected. Please change the shape of y to (n_samples, ), for example using ravel().\n",
      "  y = column_or_1d(y, warn=True)\n",
      "D:\\Software\\Anaconda3\\lib\\site-packages\\sklearn\\preprocessing\\label.py:252: DataConversionWarning: A column-vector y was passed when a 1d array was expected. Please change the shape of y to (n_samples, ), for example using ravel().\n",
      "  y = column_or_1d(y, warn=True)\n",
      "D:\\Software\\Anaconda3\\lib\\site-packages\\sklearn\\preprocessing\\label.py:219: DataConversionWarning: A column-vector y was passed when a 1d array was expected. Please change the shape of y to (n_samples, ), for example using ravel().\n",
      "  y = column_or_1d(y, warn=True)\n",
      "D:\\Software\\Anaconda3\\lib\\site-packages\\sklearn\\preprocessing\\label.py:252: DataConversionWarning: A column-vector y was passed when a 1d array was expected. Please change the shape of y to (n_samples, ), for example using ravel().\n",
      "  y = column_or_1d(y, warn=True)\n",
      "D:\\Software\\Anaconda3\\lib\\site-packages\\sklearn\\preprocessing\\label.py:219: DataConversionWarning: A column-vector y was passed when a 1d array was expected. Please change the shape of y to (n_samples, ), for example using ravel().\n",
      "  y = column_or_1d(y, warn=True)\n",
      "D:\\Software\\Anaconda3\\lib\\site-packages\\sklearn\\preprocessing\\label.py:252: DataConversionWarning: A column-vector y was passed when a 1d array was expected. Please change the shape of y to (n_samples, ), for example using ravel().\n",
      "  y = column_or_1d(y, warn=True)\n",
      "D:\\Software\\Anaconda3\\lib\\site-packages\\sklearn\\preprocessing\\label.py:219: DataConversionWarning: A column-vector y was passed when a 1d array was expected. Please change the shape of y to (n_samples, ), for example using ravel().\n",
      "  y = column_or_1d(y, warn=True)\n",
      "D:\\Software\\Anaconda3\\lib\\site-packages\\sklearn\\preprocessing\\label.py:252: DataConversionWarning: A column-vector y was passed when a 1d array was expected. Please change the shape of y to (n_samples, ), for example using ravel().\n",
      "  y = column_or_1d(y, warn=True)\n",
      "D:\\Software\\Anaconda3\\lib\\site-packages\\sklearn\\preprocessing\\label.py:219: DataConversionWarning: A column-vector y was passed when a 1d array was expected. Please change the shape of y to (n_samples, ), for example using ravel().\n",
      "  y = column_or_1d(y, warn=True)\n",
      "D:\\Software\\Anaconda3\\lib\\site-packages\\sklearn\\preprocessing\\label.py:252: DataConversionWarning: A column-vector y was passed when a 1d array was expected. Please change the shape of y to (n_samples, ), for example using ravel().\n",
      "  y = column_or_1d(y, warn=True)\n",
      "D:\\Software\\Anaconda3\\lib\\site-packages\\sklearn\\preprocessing\\label.py:219: DataConversionWarning: A column-vector y was passed when a 1d array was expected. Please change the shape of y to (n_samples, ), for example using ravel().\n",
      "  y = column_or_1d(y, warn=True)\n",
      "D:\\Software\\Anaconda3\\lib\\site-packages\\sklearn\\preprocessing\\label.py:252: DataConversionWarning: A column-vector y was passed when a 1d array was expected. Please change the shape of y to (n_samples, ), for example using ravel().\n",
      "  y = column_or_1d(y, warn=True)\n",
      "D:\\Software\\Anaconda3\\lib\\site-packages\\sklearn\\preprocessing\\label.py:219: DataConversionWarning: A column-vector y was passed when a 1d array was expected. Please change the shape of y to (n_samples, ), for example using ravel().\n",
      "  y = column_or_1d(y, warn=True)\n",
      "D:\\Software\\Anaconda3\\lib\\site-packages\\sklearn\\preprocessing\\label.py:252: DataConversionWarning: A column-vector y was passed when a 1d array was expected. Please change the shape of y to (n_samples, ), for example using ravel().\n",
      "  y = column_or_1d(y, warn=True)\n",
      "D:\\Software\\Anaconda3\\lib\\site-packages\\sklearn\\preprocessing\\label.py:219: DataConversionWarning: A column-vector y was passed when a 1d array was expected. Please change the shape of y to (n_samples, ), for example using ravel().\n",
      "  y = column_or_1d(y, warn=True)\n",
      "D:\\Software\\Anaconda3\\lib\\site-packages\\sklearn\\preprocessing\\label.py:252: DataConversionWarning: A column-vector y was passed when a 1d array was expected. Please change the shape of y to (n_samples, ), for example using ravel().\n",
      "  y = column_or_1d(y, warn=True)\n",
      "D:\\Software\\Anaconda3\\lib\\site-packages\\sklearn\\preprocessing\\label.py:219: DataConversionWarning: A column-vector y was passed when a 1d array was expected. Please change the shape of y to (n_samples, ), for example using ravel().\n",
      "  y = column_or_1d(y, warn=True)\n",
      "D:\\Software\\Anaconda3\\lib\\site-packages\\sklearn\\preprocessing\\label.py:252: DataConversionWarning: A column-vector y was passed when a 1d array was expected. Please change the shape of y to (n_samples, ), for example using ravel().\n",
      "  y = column_or_1d(y, warn=True)\n",
      "D:\\Software\\Anaconda3\\lib\\site-packages\\sklearn\\preprocessing\\label.py:219: DataConversionWarning: A column-vector y was passed when a 1d array was expected. Please change the shape of y to (n_samples, ), for example using ravel().\n",
      "  y = column_or_1d(y, warn=True)\n",
      "D:\\Software\\Anaconda3\\lib\\site-packages\\sklearn\\preprocessing\\label.py:252: DataConversionWarning: A column-vector y was passed when a 1d array was expected. Please change the shape of y to (n_samples, ), for example using ravel().\n",
      "  y = column_or_1d(y, warn=True)\n"
     ]
    }
   ],
   "source": [
    "Models,dev_yhats,scores,Model_features, prob_scores, AUROC, AUPR, FPs = train_XGBs(merge_1month_X_df2,merge_1month_Y_df2,split21,split22,is_use_other_y=False)"
   ]
  },
  {
   "cell_type": "code",
   "execution_count": 37,
   "metadata": {},
   "outputs": [
    {
     "name": "stdout",
     "output_type": "stream",
     "text": [
      "the out-of-sample scores for each model: \n"
     ]
    },
    {
     "data": {
      "text/plain": [
       "{'MSCI EM': 0.42,\n",
       " 'SPX 500 Price Return': 0.58,\n",
       " 'Eurostoxx 600': 0.6,\n",
       " 'MSCI Japan': 0.44,\n",
       " 'MSCI World': 0.52,\n",
       " 'Russell 2000': 0.52,\n",
       " 'Crude Oil Total Return': 0.42,\n",
       " 'CRB Metals': 0.52,\n",
       " 'Gold Price': 0.48,\n",
       " 'S&P GSCI Total Return Index': 0.54,\n",
       " 'UST 7-10yr': 0.58,\n",
       " 'German 7-10yr': 0.44,\n",
       " 'US IG Corps': 0.52,\n",
       " 'US HY Corp': 0.58,\n",
       " 'US Mortgages': 0.7}"
      ]
     },
     "execution_count": 37,
     "metadata": {},
     "output_type": "execute_result"
    }
   ],
   "source": [
    "print(\"the out-of-sample scores for each model: \")\n",
    "scores"
   ]
  },
  {
   "cell_type": "code",
   "execution_count": 38,
   "metadata": {},
   "outputs": [
    {
     "name": "stdout",
     "output_type": "stream",
     "text": [
      "the ROC for each model: \n"
     ]
    },
    {
     "data": {
      "text/plain": [
       "{'MSCI EM': 0.39903846153846156,\n",
       " 'SPX 500 Price Return': 0.45955882352941174,\n",
       " 'Eurostoxx 600': 0.6146010186757216,\n",
       " 'MSCI Japan': 0.4227504244482173,\n",
       " 'MSCI World': 0.5024630541871922,\n",
       " 'Russell 2000': 0.5144312393887945,\n",
       " 'Crude Oil Total Return': 0.3793103448275862,\n",
       " 'CRB Metals': 0.5056360708534622,\n",
       " 'Gold Price': 0.44499178981937604,\n",
       " 'S&P GSCI Total Return Index': 0.5373376623376623,\n",
       " 'UST 7-10yr': 0.5041050903119869,\n",
       " 'German 7-10yr': 0.45331069609507646,\n",
       " 'US IG Corps': 0.5264,\n",
       " 'US HY Corp': 0.6086956521739131,\n",
       " 'US Mortgages': 0.6206896551724138}"
      ]
     },
     "execution_count": 38,
     "metadata": {},
     "output_type": "execute_result"
    }
   ],
   "source": [
    "print(\"the ROC for each model: \")\n",
    "AUROC"
   ]
  },
  {
   "cell_type": "code",
   "execution_count": 39,
   "metadata": {},
   "outputs": [
    {
     "name": "stdout",
     "output_type": "stream",
     "text": [
      "the precision score for each model: \n"
     ]
    },
    {
     "data": {
      "text/plain": [
       "{'MSCI EM': 0.4696424568388828,\n",
       " 'SPX 500 Price Return': 0.6804366463942436,\n",
       " 'Eurostoxx 600': 0.7069852913666157,\n",
       " 'MSCI Japan': 0.5631818522302315,\n",
       " 'MSCI World': 0.6231016106732731,\n",
       " 'Russell 2000': 0.6441293897920912,\n",
       " 'Crude Oil Total Return': 0.3525094710170785,\n",
       " 'CRB Metals': 0.48359042777145167,\n",
       " 'Gold Price': 0.3819125381199445,\n",
       " 'S&P GSCI Total Return Index': 0.48511294214013817,\n",
       " 'UST 7-10yr': 0.46696942212475256,\n",
       " 'German 7-10yr': 0.583876328089969,\n",
       " 'US IG Corps': 0.5334504026121085,\n",
       " 'US HY Corp': 0.6141217492262502,\n",
       " 'US Mortgages': 0.6438330193375896}"
      ]
     },
     "execution_count": 39,
     "metadata": {},
     "output_type": "execute_result"
    }
   ],
   "source": [
    "print(\"the precision score for each model: \")\n",
    "AUPR"
   ]
  },
  {
   "cell_type": "code",
   "execution_count": 40,
   "metadata": {},
   "outputs": [
    {
     "name": "stdout",
     "output_type": "stream",
     "text": [
      "the FP for each model: \n"
     ]
    },
    {
     "data": {
      "text/plain": [
       "{'MSCI EM': 16,\n",
       " 'SPX 500 Price Return': 12,\n",
       " 'Eurostoxx 600': 10,\n",
       " 'MSCI Japan': 11,\n",
       " 'MSCI World': 12,\n",
       " 'Russell 2000': 9,\n",
       " 'Crude Oil Total Return': 25,\n",
       " 'CRB Metals': 14,\n",
       " 'Gold Price': 15,\n",
       " 'S&P GSCI Total Return Index': 13,\n",
       " 'UST 7-10yr': 5,\n",
       " 'German 7-10yr': 11,\n",
       " 'US IG Corps': 13,\n",
       " 'US HY Corp': 9,\n",
       " 'US Mortgages': 5}"
      ]
     },
     "execution_count": 40,
     "metadata": {},
     "output_type": "execute_result"
    }
   ],
   "source": [
    "print(\"the FP for each model: \")\n",
    "FPs"
   ]
  },
  {
   "cell_type": "code",
   "execution_count": 41,
   "metadata": {},
   "outputs": [],
   "source": [
    "model_use = {'MSCI EM': 1,\n",
    " 'SPX 500 Price Return': 1,\n",
    " 'Eurostoxx 600': 1,\n",
    " 'MSCI Japan': 1,\n",
    " 'MSCI World': 1,\n",
    " 'Russell 2000': 1,\n",
    " 'Crude Oil Total Return': 1,\n",
    " 'CRB Metals': 2,\n",
    " 'Gold Price': 1,\n",
    " 'S&P GSCI Total Return Index': 1,\n",
    " 'UST 7-10yr': 2,\n",
    " 'German 7-10yr': 2,\n",
    " 'US IG Corps': 1,\n",
    " 'US HY Corp': 2,\n",
    " 'US Mortgages': 2}"
   ]
  },
  {
   "cell_type": "code",
   "execution_count": 42,
   "metadata": {},
   "outputs": [],
   "source": [
    "def train_XGBs_ensemble(X,Y,split1,split2,col,is_use_other_y=True,\n",
    "               max_depth=3,learning_rate=0.1, n_estimators=300,\n",
    "               verbosity=1, objective='binary:logistic',\n",
    "               booster='gbtree', tree_method='auto', n_jobs=1, \n",
    "               gpu_id=-1, gamma=0, min_child_weight=1, \n",
    "               max_delta_step=0, subsample=1, colsample_bytree=1, \n",
    "               colsample_bylevel=1, colsample_bynode=1, reg_alpha=0, \n",
    "               reg_lambda=1, scale_pos_weight=1, base_score=0.5, \n",
    "               random_state=0, missing=None):\n",
    "    import re\n",
    "    regex = re.compile(r\"\\[|\\]|<\", re.IGNORECASE)\n",
    "    X.columns = [regex.sub(\"_\", col) if any(x in str(col) for x in set(('[', ']', '<'))) else col for col in X.columns.values]\n",
    "    X_old, Y_old = X, Y\n",
    "    X, Y = X_old, Y_old\n",
    "    X, y = get_X_y(X,Y,col,is_use_other_y)\n",
    "    train_X = X[:split1]\n",
    "    train_X = train_X.fillna(train_X.mean())\n",
    "    dev_X = X[split1:split2]\n",
    "    dev_X = dev_X.fillna(X[:split2].mean())\n",
    "    test_X = X[split2:]\n",
    "    test_X = test_X.fillna(X.mean())\n",
    "    train_y = y[:split1]\n",
    "    dev_y = y[split1:split2]\n",
    "    test_y = y[split2:]\n",
    "    features = filter_by_comoment(train_X,train_y,w=1,isCentralized = False)[0]\n",
    "    train_X = train_X[features]\n",
    "    dev_X = dev_X[features]\n",
    "    test_X = test_X[features]\n",
    "    XGB = xgb.XGBClassifier(learning_rate=0.03, n_estimators=300, n_jobs=-1, silent=False)\n",
    "    XGB.fit(train_X, train_y) \n",
    "    Models = XGB\n",
    "    dev_yhats = XGB.predict(dev_X)\n",
    "    scores = XGB.score(dev_X, dev_y)\n",
    "    Model_features = features\n",
    "    prob_scores = XGB.predict_proba(dev_X)[:,1]\n",
    "    AUROC = roc_auc_score(dev_y, prob_scores)\n",
    "    AUPR = average_precision_score(dev_y, prob_scores)\n",
    "    tn, fp, fn, tp = confusion_matrix(dev_y, dev_yhats).ravel()\n",
    "    FPs = fp\n",
    "    TNs = tp\n",
    "    return Models,dev_yhats,scores,Model_features, prob_scores, AUROC, AUPR, FPs, TNs"
   ]
  },
  {
   "cell_type": "code",
   "execution_count": 43,
   "metadata": {
    "collapsed": true
   },
   "outputs": [
    {
     "name": "stderr",
     "output_type": "stream",
     "text": [
      "D:\\Software\\Anaconda3\\lib\\site-packages\\sklearn\\preprocessing\\label.py:219: DataConversionWarning: A column-vector y was passed when a 1d array was expected. Please change the shape of y to (n_samples, ), for example using ravel().\n",
      "  y = column_or_1d(y, warn=True)\n",
      "D:\\Software\\Anaconda3\\lib\\site-packages\\sklearn\\preprocessing\\label.py:252: DataConversionWarning: A column-vector y was passed when a 1d array was expected. Please change the shape of y to (n_samples, ), for example using ravel().\n",
      "  y = column_or_1d(y, warn=True)\n",
      "D:\\Software\\Anaconda3\\lib\\site-packages\\sklearn\\preprocessing\\label.py:219: DataConversionWarning: A column-vector y was passed when a 1d array was expected. Please change the shape of y to (n_samples, ), for example using ravel().\n",
      "  y = column_or_1d(y, warn=True)\n",
      "D:\\Software\\Anaconda3\\lib\\site-packages\\sklearn\\preprocessing\\label.py:252: DataConversionWarning: A column-vector y was passed when a 1d array was expected. Please change the shape of y to (n_samples, ), for example using ravel().\n",
      "  y = column_or_1d(y, warn=True)\n",
      "D:\\Software\\Anaconda3\\lib\\site-packages\\sklearn\\preprocessing\\label.py:219: DataConversionWarning: A column-vector y was passed when a 1d array was expected. Please change the shape of y to (n_samples, ), for example using ravel().\n",
      "  y = column_or_1d(y, warn=True)\n",
      "D:\\Software\\Anaconda3\\lib\\site-packages\\sklearn\\preprocessing\\label.py:252: DataConversionWarning: A column-vector y was passed when a 1d array was expected. Please change the shape of y to (n_samples, ), for example using ravel().\n",
      "  y = column_or_1d(y, warn=True)\n",
      "D:\\Software\\Anaconda3\\lib\\site-packages\\sklearn\\preprocessing\\label.py:219: DataConversionWarning: A column-vector y was passed when a 1d array was expected. Please change the shape of y to (n_samples, ), for example using ravel().\n",
      "  y = column_or_1d(y, warn=True)\n",
      "D:\\Software\\Anaconda3\\lib\\site-packages\\sklearn\\preprocessing\\label.py:252: DataConversionWarning: A column-vector y was passed when a 1d array was expected. Please change the shape of y to (n_samples, ), for example using ravel().\n",
      "  y = column_or_1d(y, warn=True)\n",
      "D:\\Software\\Anaconda3\\lib\\site-packages\\sklearn\\preprocessing\\label.py:219: DataConversionWarning: A column-vector y was passed when a 1d array was expected. Please change the shape of y to (n_samples, ), for example using ravel().\n",
      "  y = column_or_1d(y, warn=True)\n",
      "D:\\Software\\Anaconda3\\lib\\site-packages\\sklearn\\preprocessing\\label.py:252: DataConversionWarning: A column-vector y was passed when a 1d array was expected. Please change the shape of y to (n_samples, ), for example using ravel().\n",
      "  y = column_or_1d(y, warn=True)\n",
      "D:\\Software\\Anaconda3\\lib\\site-packages\\sklearn\\preprocessing\\label.py:219: DataConversionWarning: A column-vector y was passed when a 1d array was expected. Please change the shape of y to (n_samples, ), for example using ravel().\n",
      "  y = column_or_1d(y, warn=True)\n",
      "D:\\Software\\Anaconda3\\lib\\site-packages\\sklearn\\preprocessing\\label.py:252: DataConversionWarning: A column-vector y was passed when a 1d array was expected. Please change the shape of y to (n_samples, ), for example using ravel().\n",
      "  y = column_or_1d(y, warn=True)\n",
      "D:\\Software\\Anaconda3\\lib\\site-packages\\sklearn\\preprocessing\\label.py:219: DataConversionWarning: A column-vector y was passed when a 1d array was expected. Please change the shape of y to (n_samples, ), for example using ravel().\n",
      "  y = column_or_1d(y, warn=True)\n",
      "D:\\Software\\Anaconda3\\lib\\site-packages\\sklearn\\preprocessing\\label.py:252: DataConversionWarning: A column-vector y was passed when a 1d array was expected. Please change the shape of y to (n_samples, ), for example using ravel().\n",
      "  y = column_or_1d(y, warn=True)\n",
      "D:\\Software\\Anaconda3\\lib\\site-packages\\sklearn\\preprocessing\\label.py:219: DataConversionWarning: A column-vector y was passed when a 1d array was expected. Please change the shape of y to (n_samples, ), for example using ravel().\n",
      "  y = column_or_1d(y, warn=True)\n",
      "D:\\Software\\Anaconda3\\lib\\site-packages\\sklearn\\preprocessing\\label.py:252: DataConversionWarning: A column-vector y was passed when a 1d array was expected. Please change the shape of y to (n_samples, ), for example using ravel().\n",
      "  y = column_or_1d(y, warn=True)\n",
      "D:\\Software\\Anaconda3\\lib\\site-packages\\sklearn\\preprocessing\\label.py:219: DataConversionWarning: A column-vector y was passed when a 1d array was expected. Please change the shape of y to (n_samples, ), for example using ravel().\n",
      "  y = column_or_1d(y, warn=True)\n",
      "D:\\Software\\Anaconda3\\lib\\site-packages\\sklearn\\preprocessing\\label.py:252: DataConversionWarning: A column-vector y was passed when a 1d array was expected. Please change the shape of y to (n_samples, ), for example using ravel().\n",
      "  y = column_or_1d(y, warn=True)\n",
      "D:\\Software\\Anaconda3\\lib\\site-packages\\sklearn\\preprocessing\\label.py:219: DataConversionWarning: A column-vector y was passed when a 1d array was expected. Please change the shape of y to (n_samples, ), for example using ravel().\n",
      "  y = column_or_1d(y, warn=True)\n",
      "D:\\Software\\Anaconda3\\lib\\site-packages\\sklearn\\preprocessing\\label.py:252: DataConversionWarning: A column-vector y was passed when a 1d array was expected. Please change the shape of y to (n_samples, ), for example using ravel().\n",
      "  y = column_or_1d(y, warn=True)\n",
      "D:\\Software\\Anaconda3\\lib\\site-packages\\sklearn\\preprocessing\\label.py:219: DataConversionWarning: A column-vector y was passed when a 1d array was expected. Please change the shape of y to (n_samples, ), for example using ravel().\n",
      "  y = column_or_1d(y, warn=True)\n",
      "D:\\Software\\Anaconda3\\lib\\site-packages\\sklearn\\preprocessing\\label.py:252: DataConversionWarning: A column-vector y was passed when a 1d array was expected. Please change the shape of y to (n_samples, ), for example using ravel().\n",
      "  y = column_or_1d(y, warn=True)\n",
      "D:\\Software\\Anaconda3\\lib\\site-packages\\sklearn\\preprocessing\\label.py:219: DataConversionWarning: A column-vector y was passed when a 1d array was expected. Please change the shape of y to (n_samples, ), for example using ravel().\n",
      "  y = column_or_1d(y, warn=True)\n",
      "D:\\Software\\Anaconda3\\lib\\site-packages\\sklearn\\preprocessing\\label.py:252: DataConversionWarning: A column-vector y was passed when a 1d array was expected. Please change the shape of y to (n_samples, ), for example using ravel().\n",
      "  y = column_or_1d(y, warn=True)\n",
      "D:\\Software\\Anaconda3\\lib\\site-packages\\sklearn\\preprocessing\\label.py:219: DataConversionWarning: A column-vector y was passed when a 1d array was expected. Please change the shape of y to (n_samples, ), for example using ravel().\n",
      "  y = column_or_1d(y, warn=True)\n",
      "D:\\Software\\Anaconda3\\lib\\site-packages\\sklearn\\preprocessing\\label.py:252: DataConversionWarning: A column-vector y was passed when a 1d array was expected. Please change the shape of y to (n_samples, ), for example using ravel().\n",
      "  y = column_or_1d(y, warn=True)\n",
      "D:\\Software\\Anaconda3\\lib\\site-packages\\sklearn\\preprocessing\\label.py:219: DataConversionWarning: A column-vector y was passed when a 1d array was expected. Please change the shape of y to (n_samples, ), for example using ravel().\n",
      "  y = column_or_1d(y, warn=True)\n",
      "D:\\Software\\Anaconda3\\lib\\site-packages\\sklearn\\preprocessing\\label.py:252: DataConversionWarning: A column-vector y was passed when a 1d array was expected. Please change the shape of y to (n_samples, ), for example using ravel().\n",
      "  y = column_or_1d(y, warn=True)\n",
      "D:\\Software\\Anaconda3\\lib\\site-packages\\sklearn\\preprocessing\\label.py:219: DataConversionWarning: A column-vector y was passed when a 1d array was expected. Please change the shape of y to (n_samples, ), for example using ravel().\n",
      "  y = column_or_1d(y, warn=True)\n",
      "D:\\Software\\Anaconda3\\lib\\site-packages\\sklearn\\preprocessing\\label.py:252: DataConversionWarning: A column-vector y was passed when a 1d array was expected. Please change the shape of y to (n_samples, ), for example using ravel().\n",
      "  y = column_or_1d(y, warn=True)\n"
     ]
    }
   ],
   "source": [
    "model_information = {}\n",
    "for col in merge_1month_Y.columns:\n",
    "    if model_use[col] == 1:\n",
    "        model_information[col] = train_XGBs_ensemble(merge_1month_X_df1,merge_1month_Y_df1,split11,split12,col,is_use_other_y=True)\n",
    "    elif model_use[col] == 2:\n",
    "        model_information[col] = train_XGBs_ensemble(merge_1month_X_df2,merge_1month_Y_df2,split21,split22,col,is_use_other_y=True)"
   ]
  },
  {
   "cell_type": "code",
   "execution_count": 68,
   "metadata": {},
   "outputs": [],
   "source": [
    "def get_FPR_from_model_information(Dict):\n",
    "    FPRs = {}\n",
    "    for key in Dict.keys():\n",
    "        FPRs[key] = Dict[key][7] / (Dict[key][7] + Dict[key][8])\n",
    "    return FPRs"
   ]
  },
  {
   "cell_type": "code",
   "execution_count": 69,
   "metadata": {},
   "outputs": [
    {
     "name": "stdout",
     "output_type": "stream",
     "text": [
      "The FPR for each model after selection: \n"
     ]
    },
    {
     "data": {
      "text/plain": [
       "{'MSCI EM': 0.38095238095238093,\n",
       " 'SPX 500 Price Return': 0.4074074074074074,\n",
       " 'Eurostoxx 600': 0.4,\n",
       " 'MSCI Japan': 0.23076923076923078,\n",
       " 'MSCI World': 0.26666666666666666,\n",
       " 'Russell 2000': 0.42857142857142855,\n",
       " 'Crude Oil Total Return': 0.5714285714285714,\n",
       " 'CRB Metals': 0.5384615384615384,\n",
       " 'Gold Price': 0.5,\n",
       " 'S&P GSCI Total Return Index': 0.6153846153846154,\n",
       " 'UST 7-10yr': 0.5,\n",
       " 'German 7-10yr': 0.38095238095238093,\n",
       " 'US IG Corps': 0.5,\n",
       " 'US HY Corp': 0.36363636363636365,\n",
       " 'US Mortgages': 0.4666666666666667}"
      ]
     },
     "execution_count": 69,
     "metadata": {},
     "output_type": "execute_result"
    }
   ],
   "source": [
    "print(\"The FPR for each model after selection: \")\n",
    "get_FPR_from_model_information(model_information)"
   ]
  },
  {
   "cell_type": "markdown",
   "metadata": {},
   "source": [
    "# Test_code_region: please do not delete and run"
   ]
  },
  {
   "cell_type": "code",
   "execution_count": 70,
   "metadata": {},
   "outputs": [],
   "source": [
    "X,y = get_X_y(merge_1month_X_df1,merge_1month_Y_df1,'MSCI EM')"
   ]
  },
  {
   "cell_type": "code",
   "execution_count": 71,
   "metadata": {},
   "outputs": [],
   "source": [
    "import re\n",
    "regex = re.compile(r\"\\[|\\]|<\", re.IGNORECASE)\n",
    "X.columns = [regex.sub(\"_\", col) if any(x in str(col) for x in set(('[', ']', '<'))) else col for col in X.columns.values]"
   ]
  },
  {
   "cell_type": "code",
   "execution_count": 72,
   "metadata": {},
   "outputs": [],
   "source": [
    "train_X = X[:split11]\n",
    "train_X = train_X.fillna(train_X.mean())\n",
    "dev_X = X[split11:split12]\n",
    "dev_X = dev_X.fillna(X[:split12].mean())\n",
    "test_X = X[split12:]\n",
    "test_X = test_X.fillna(X.mean())"
   ]
  },
  {
   "cell_type": "markdown",
   "metadata": {},
   "source": [
    "### Logistic Regression"
   ]
  },
  {
   "cell_type": "code",
   "execution_count": 73,
   "metadata": {},
   "outputs": [
    {
     "name": "stderr",
     "output_type": "stream",
     "text": [
      "D:\\Software\\Anaconda3\\lib\\site-packages\\sklearn\\utils\\validation.py:761: DataConversionWarning: A column-vector y was passed when a 1d array was expected. Please change the shape of y to (n_samples, ), for example using ravel().\n",
      "  y = column_or_1d(y, warn=True)\n"
     ]
    },
    {
     "data": {
      "text/plain": [
       "SGDClassifier(alpha=0.0001, average=False, class_weight=None,\n",
       "       early_stopping=False, epsilon=0.1, eta0=0.0, fit_intercept=True,\n",
       "       l1_ratio=0.15, learning_rate='optimal', loss='log', max_iter=5,\n",
       "       n_iter=None, n_iter_no_change=5, n_jobs=None, penalty='l2',\n",
       "       power_t=0.5, random_state=42, shuffle=True, tol=-inf,\n",
       "       validation_fraction=0.1, verbose=0, warm_start=False)"
      ]
     },
     "execution_count": 73,
     "metadata": {},
     "output_type": "execute_result"
    }
   ],
   "source": [
    "from sklearn.linear_model import SGDClassifier\n",
    "\n",
    "logit = SGDClassifier(\n",
    "    random_state=42, loss='log', max_iter=5, tol=-np.infty) \n",
    "logit.fit(train_X, train_y)"
   ]
  },
  {
   "cell_type": "code",
   "execution_count": 74,
   "metadata": {},
   "outputs": [
    {
     "data": {
      "text/plain": [
       "0.5185185185185185"
      ]
     },
     "execution_count": 74,
     "metadata": {},
     "output_type": "execute_result"
    }
   ],
   "source": [
    "logit.score(test_X[:-1],test_y[:-1])"
   ]
  },
  {
   "cell_type": "markdown",
   "metadata": {},
   "source": [
    "### Random Forest"
   ]
  },
  {
   "cell_type": "code",
   "execution_count": 75,
   "metadata": {},
   "outputs": [
    {
     "name": "stderr",
     "output_type": "stream",
     "text": [
      "D:\\Software\\Anaconda3\\lib\\site-packages\\sklearn\\ensemble\\forest.py:246: FutureWarning: The default value of n_estimators will change from 10 in version 0.20 to 100 in 0.22.\n",
      "  \"10 in version 0.20 to 100 in 0.22.\", FutureWarning)\n",
      "D:\\Software\\Anaconda3\\lib\\site-packages\\ipykernel_launcher.py:4: DataConversionWarning: A column-vector y was passed when a 1d array was expected. Please change the shape of y to (n_samples,), for example using ravel().\n",
      "  after removing the cwd from sys.path.\n"
     ]
    },
    {
     "data": {
      "text/plain": [
       "RandomForestClassifier(bootstrap=True, class_weight=None, criterion='gini',\n",
       "            max_depth=None, max_features='auto', max_leaf_nodes=None,\n",
       "            min_impurity_decrease=0.0, min_impurity_split=None,\n",
       "            min_samples_leaf=1, min_samples_split=2,\n",
       "            min_weight_fraction_leaf=0.0, n_estimators=10, n_jobs=None,\n",
       "            oob_score=False, random_state=42, verbose=0, warm_start=False)"
      ]
     },
     "execution_count": 75,
     "metadata": {},
     "output_type": "execute_result"
    }
   ],
   "source": [
    "from sklearn.ensemble import RandomForestClassifier\n",
    "\n",
    "rf = RandomForestClassifier(random_state=42)\n",
    "rf.fit(train_X, train_y)"
   ]
  },
  {
   "cell_type": "code",
   "execution_count": 76,
   "metadata": {
    "scrolled": true
   },
   "outputs": [
    {
     "data": {
      "text/plain": [
       "0.5555555555555556"
      ]
     },
     "execution_count": 76,
     "metadata": {},
     "output_type": "execute_result"
    }
   ],
   "source": [
    "rf.score(test_X[:-1],test_y[:-1])"
   ]
  },
  {
   "cell_type": "markdown",
   "metadata": {},
   "source": [
    "### Gradient Boost"
   ]
  },
  {
   "cell_type": "code",
   "execution_count": 77,
   "metadata": {},
   "outputs": [
    {
     "name": "stderr",
     "output_type": "stream",
     "text": [
      "D:\\Software\\Anaconda3\\lib\\site-packages\\sklearn\\utils\\validation.py:761: DataConversionWarning: A column-vector y was passed when a 1d array was expected. Please change the shape of y to (n_samples, ), for example using ravel().\n",
      "  y = column_or_1d(y, warn=True)\n"
     ]
    },
    {
     "data": {
      "text/plain": [
       "GradientBoostingClassifier(criterion='friedman_mse', init=None,\n",
       "              learning_rate=1.0, loss='deviance', max_depth=2,\n",
       "              max_features=None, max_leaf_nodes=None,\n",
       "              min_impurity_decrease=0.0, min_impurity_split=None,\n",
       "              min_samples_leaf=1, min_samples_split=2,\n",
       "              min_weight_fraction_leaf=0.0, n_estimators=3,\n",
       "              n_iter_no_change=None, presort='auto', random_state=42,\n",
       "              subsample=1.0, tol=0.0001, validation_fraction=0.1,\n",
       "              verbose=0, warm_start=False)"
      ]
     },
     "execution_count": 77,
     "metadata": {},
     "output_type": "execute_result"
    }
   ],
   "source": [
    "from sklearn.ensemble import GradientBoostingClassifier\n",
    "\n",
    "gb = GradientBoostingClassifier(max_depth=2, n_estimators=3, learning_rate=1.0, random_state=42)\n",
    "gb.fit(train_X, train_y)"
   ]
  },
  {
   "cell_type": "code",
   "execution_count": 78,
   "metadata": {
    "scrolled": true
   },
   "outputs": [
    {
     "data": {
      "text/plain": [
       "0.5925925925925926"
      ]
     },
     "execution_count": 78,
     "metadata": {},
     "output_type": "execute_result"
    }
   ],
   "source": [
    "gb.score(test_X[:-1],test_y[:-1])"
   ]
  },
  {
   "cell_type": "markdown",
   "metadata": {},
   "source": [
    "### SVC"
   ]
  },
  {
   "cell_type": "code",
   "execution_count": 79,
   "metadata": {},
   "outputs": [
    {
     "name": "stderr",
     "output_type": "stream",
     "text": [
      "D:\\Software\\Anaconda3\\lib\\site-packages\\sklearn\\utils\\validation.py:761: DataConversionWarning: A column-vector y was passed when a 1d array was expected. Please change the shape of y to (n_samples, ), for example using ravel().\n",
      "  y = column_or_1d(y, warn=True)\n",
      "D:\\Software\\Anaconda3\\lib\\site-packages\\sklearn\\svm\\base.py:196: FutureWarning: The default value of gamma will change from 'auto' to 'scale' in version 0.22 to account better for unscaled features. Set gamma explicitly to 'auto' or 'scale' to avoid this warning.\n",
      "  \"avoid this warning.\", FutureWarning)\n"
     ]
    },
    {
     "data": {
      "text/plain": [
       "SVC(C=1.0, cache_size=200, class_weight=None, coef0=0.0,\n",
       "  decision_function_shape='ovr', degree=3, gamma='auto_deprecated',\n",
       "  kernel='rbf', max_iter=-1, probability=False, random_state=42,\n",
       "  shrinking=True, tol=0.001, verbose=False)"
      ]
     },
     "execution_count": 79,
     "metadata": {},
     "output_type": "execute_result"
    }
   ],
   "source": [
    "from sklearn.svm import SVC\n",
    "\n",
    "svc = SVC(random_state=42)\n",
    "svc.fit(train_X, train_y)"
   ]
  },
  {
   "cell_type": "code",
   "execution_count": 80,
   "metadata": {},
   "outputs": [
    {
     "data": {
      "text/plain": [
       "0.48148148148148145"
      ]
     },
     "execution_count": 80,
     "metadata": {},
     "output_type": "execute_result"
    }
   ],
   "source": [
    "svc.score(test_X[:-1],test_y[:-1])"
   ]
  },
  {
   "cell_type": "markdown",
   "metadata": {},
   "source": [
    "### XGBoost"
   ]
  },
  {
   "cell_type": "code",
   "execution_count": 81,
   "metadata": {},
   "outputs": [
    {
     "name": "stderr",
     "output_type": "stream",
     "text": [
      "D:\\Software\\Anaconda3\\lib\\site-packages\\sklearn\\preprocessing\\label.py:219: DataConversionWarning: A column-vector y was passed when a 1d array was expected. Please change the shape of y to (n_samples, ), for example using ravel().\n",
      "  y = column_or_1d(y, warn=True)\n",
      "D:\\Software\\Anaconda3\\lib\\site-packages\\sklearn\\preprocessing\\label.py:252: DataConversionWarning: A column-vector y was passed when a 1d array was expected. Please change the shape of y to (n_samples, ), for example using ravel().\n",
      "  y = column_or_1d(y, warn=True)\n"
     ]
    },
    {
     "data": {
      "text/plain": [
       "XGBClassifier(base_score=0.5, booster='gbtree', colsample_bylevel=1,\n",
       "       colsample_bynode=1, colsample_bytree=1, gamma=0, learning_rate=0.03,\n",
       "       max_delta_step=0, max_depth=3, min_child_weight=1, missing=None,\n",
       "       n_estimators=300, n_jobs=-1, nthread=None,\n",
       "       objective='binary:logistic', random_state=0, reg_alpha=0,\n",
       "       reg_lambda=1, scale_pos_weight=1, seed=None, silent=False,\n",
       "       subsample=1, verbosity=1)"
      ]
     },
     "execution_count": 81,
     "metadata": {},
     "output_type": "execute_result"
    }
   ],
   "source": [
    "XGB = xgb.XGBClassifier(learning_rate=0.03, n_estimators=300, n_jobs=-1, silent=False)\n",
    "XGB.fit(train_X, train_y)"
   ]
  },
  {
   "cell_type": "code",
   "execution_count": 82,
   "metadata": {},
   "outputs": [
    {
     "name": "stdout",
     "output_type": "stream",
     "text": [
      "[1. 0. 1. 1. 1. 1. 0. 0. 0. 1. 1. 1. 1. 1. 1. 0. 1. 1. 1. 1. 1. 1. 0. 0.\n",
      " 1. 0. 1. 1.]\n",
      "0.6071428571428571\n"
     ]
    }
   ],
   "source": [
    "test_yhat = XGB.predict(test_X)\n",
    "print(test_yhat)\n",
    "score = XGB.score(dev_X, dev_y)\n",
    "print(score)"
   ]
  },
  {
   "cell_type": "code",
   "execution_count": 83,
   "metadata": {},
   "outputs": [
    {
     "data": {
      "text/plain": [
       "20.0"
      ]
     },
     "execution_count": 83,
     "metadata": {},
     "output_type": "execute_result"
    }
   ],
   "source": [
    "sum(test_yhat)"
   ]
  },
  {
   "cell_type": "code",
   "execution_count": 84,
   "metadata": {},
   "outputs": [],
   "source": [
    "aaa = svc.predict(test_X[:-1])"
   ]
  },
  {
   "cell_type": "code",
   "execution_count": 85,
   "metadata": {},
   "outputs": [
    {
     "data": {
      "text/plain": [
       "True"
      ]
     },
     "execution_count": 85,
     "metadata": {},
     "output_type": "execute_result"
    }
   ],
   "source": [
    "aaa[0] == 1"
   ]
  },
  {
   "cell_type": "markdown",
   "metadata": {},
   "source": [
    "## Prediction Results"
   ]
  },
  {
   "cell_type": "code",
   "execution_count": 86,
   "metadata": {},
   "outputs": [],
   "source": [
    "def draw_confusion_matrix(y, yhat):\n",
    "    tn, fn, fp, tp = 0, 0, 0, 0\n",
    "    for i in range(len(y)):\n",
    "        if yhat[i] == 1:\n",
    "            if y[i] == 1:\n",
    "                tp += 1\n",
    "            else:\n",
    "                fp += 1\n",
    "        else:\n",
    "            if y[i] == 1:\n",
    "                fn += 1\n",
    "            else:\n",
    "                tn += 1\n",
    "    c_m = pd.DataFrame(np.array([[tn,fn],[fp,tp]]))\n",
    "    return c_m"
   ]
  }
 ],
 "metadata": {
  "kernelspec": {
   "display_name": "Python 3",
   "language": "python",
   "name": "python3"
  },
  "language_info": {
   "codemirror_mode": {
    "name": "ipython",
    "version": 3
   },
   "file_extension": ".py",
   "mimetype": "text/x-python",
   "name": "python",
   "nbconvert_exporter": "python",
   "pygments_lexer": "ipython3",
   "version": "3.6.8"
  }
 },
 "nbformat": 4,
 "nbformat_minor": 2
}
